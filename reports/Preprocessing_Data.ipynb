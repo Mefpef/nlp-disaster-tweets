{
 "cells": [
  {
   "cell_type": "code",
   "execution_count": 417,
   "outputs": [],
   "source": [
    "ORIGINAL_PATH = \"../data/original/\""
   ],
   "metadata": {
    "collapsed": false,
    "pycharm": {
     "name": "#%%\n"
    }
   }
  },
  {
   "cell_type": "markdown",
   "source": [
    "---\n",
    "## Read file with datas"
   ],
   "metadata": {
    "collapsed": false,
    "pycharm": {
     "name": "#%% md\n"
    }
   }
  },
  {
   "cell_type": "code",
   "execution_count": 418,
   "outputs": [],
   "source": [
    "import pandas as pd"
   ],
   "metadata": {
    "collapsed": false,
    "pycharm": {
     "name": "#%%\n"
    }
   }
  },
  {
   "cell_type": "code",
   "execution_count": 419,
   "outputs": [],
   "source": [
    "df = pd.read_csv(ORIGINAL_PATH + r\"train.csv\")"
   ],
   "metadata": {
    "collapsed": false,
    "pycharm": {
     "name": "#%%\n"
    }
   }
  },
  {
   "cell_type": "code",
   "execution_count": 420,
   "outputs": [
    {
     "data": {
      "text/plain": "    id keyword location  \\\n0    1     NaN      NaN   \n1    4     NaN      NaN   \n2    5     NaN      NaN   \n3    6     NaN      NaN   \n4    7     NaN      NaN   \n5    8     NaN      NaN   \n6   10     NaN      NaN   \n7   13     NaN      NaN   \n8   14     NaN      NaN   \n9   15     NaN      NaN   \n10  16     NaN      NaN   \n11  17     NaN      NaN   \n12  18     NaN      NaN   \n13  19     NaN      NaN   \n14  20     NaN      NaN   \n\n                                                                                                   text  \\\n0                                 Our Deeds are the Reason of this #earthquake May ALLAH Forgive us all   \n1                                                                Forest fire near La Ronge Sask. Canada   \n2   All residents asked to 'shelter in place' are being notified by officers. No other evacuation or...   \n3                                     13,000 people receive #wildfires evacuation orders in California    \n4              Just got sent this photo from Ruby #Alaska as smoke from #wildfires pours into a school    \n5   #RockyFire Update => California Hwy. 20 closed in both directions due to Lake County fire - #CAf...   \n6       #flood #disaster Heavy rain causes flash flooding of streets in Manitou, Colorado Springs areas   \n7                                           I'm on top of the hill and I can see a fire in the woods...   \n8                       There's an emergency evacuation happening now in the building across the street   \n9                                                  I'm afraid that the tornado is coming to our area...   \n10                                                          Three people died from the heat wave so far   \n11  Haha South Tampa is getting flooded hah- WAIT A SECOND I LIVE IN SOUTH TAMPA WHAT AM I GONNA DO ...   \n12                         #raining #flooding #Florida #TampaBay #Tampa 18 or 19 days. I've lost count    \n13                                                              #Flood in Bago Myanmar #We arrived Bago   \n14                                             Damage to school bus on 80 in multi car crash #BREAKING    \n\n    target  \n0        1  \n1        1  \n2        1  \n3        1  \n4        1  \n5        1  \n6        1  \n7        1  \n8        1  \n9        1  \n10       1  \n11       1  \n12       1  \n13       1  \n14       1  ",
      "text/html": "<div>\n<style scoped>\n    .dataframe tbody tr th:only-of-type {\n        vertical-align: middle;\n    }\n\n    .dataframe tbody tr th {\n        vertical-align: top;\n    }\n\n    .dataframe thead th {\n        text-align: right;\n    }\n</style>\n<table border=\"1\" class=\"dataframe\">\n  <thead>\n    <tr style=\"text-align: right;\">\n      <th></th>\n      <th>id</th>\n      <th>keyword</th>\n      <th>location</th>\n      <th>text</th>\n      <th>target</th>\n    </tr>\n  </thead>\n  <tbody>\n    <tr>\n      <th>0</th>\n      <td>1</td>\n      <td>NaN</td>\n      <td>NaN</td>\n      <td>Our Deeds are the Reason of this #earthquake May ALLAH Forgive us all</td>\n      <td>1</td>\n    </tr>\n    <tr>\n      <th>1</th>\n      <td>4</td>\n      <td>NaN</td>\n      <td>NaN</td>\n      <td>Forest fire near La Ronge Sask. Canada</td>\n      <td>1</td>\n    </tr>\n    <tr>\n      <th>2</th>\n      <td>5</td>\n      <td>NaN</td>\n      <td>NaN</td>\n      <td>All residents asked to 'shelter in place' are being notified by officers. No other evacuation or...</td>\n      <td>1</td>\n    </tr>\n    <tr>\n      <th>3</th>\n      <td>6</td>\n      <td>NaN</td>\n      <td>NaN</td>\n      <td>13,000 people receive #wildfires evacuation orders in California</td>\n      <td>1</td>\n    </tr>\n    <tr>\n      <th>4</th>\n      <td>7</td>\n      <td>NaN</td>\n      <td>NaN</td>\n      <td>Just got sent this photo from Ruby #Alaska as smoke from #wildfires pours into a school</td>\n      <td>1</td>\n    </tr>\n    <tr>\n      <th>5</th>\n      <td>8</td>\n      <td>NaN</td>\n      <td>NaN</td>\n      <td>#RockyFire Update =&gt; California Hwy. 20 closed in both directions due to Lake County fire - #CAf...</td>\n      <td>1</td>\n    </tr>\n    <tr>\n      <th>6</th>\n      <td>10</td>\n      <td>NaN</td>\n      <td>NaN</td>\n      <td>#flood #disaster Heavy rain causes flash flooding of streets in Manitou, Colorado Springs areas</td>\n      <td>1</td>\n    </tr>\n    <tr>\n      <th>7</th>\n      <td>13</td>\n      <td>NaN</td>\n      <td>NaN</td>\n      <td>I'm on top of the hill and I can see a fire in the woods...</td>\n      <td>1</td>\n    </tr>\n    <tr>\n      <th>8</th>\n      <td>14</td>\n      <td>NaN</td>\n      <td>NaN</td>\n      <td>There's an emergency evacuation happening now in the building across the street</td>\n      <td>1</td>\n    </tr>\n    <tr>\n      <th>9</th>\n      <td>15</td>\n      <td>NaN</td>\n      <td>NaN</td>\n      <td>I'm afraid that the tornado is coming to our area...</td>\n      <td>1</td>\n    </tr>\n    <tr>\n      <th>10</th>\n      <td>16</td>\n      <td>NaN</td>\n      <td>NaN</td>\n      <td>Three people died from the heat wave so far</td>\n      <td>1</td>\n    </tr>\n    <tr>\n      <th>11</th>\n      <td>17</td>\n      <td>NaN</td>\n      <td>NaN</td>\n      <td>Haha South Tampa is getting flooded hah- WAIT A SECOND I LIVE IN SOUTH TAMPA WHAT AM I GONNA DO ...</td>\n      <td>1</td>\n    </tr>\n    <tr>\n      <th>12</th>\n      <td>18</td>\n      <td>NaN</td>\n      <td>NaN</td>\n      <td>#raining #flooding #Florida #TampaBay #Tampa 18 or 19 days. I've lost count</td>\n      <td>1</td>\n    </tr>\n    <tr>\n      <th>13</th>\n      <td>19</td>\n      <td>NaN</td>\n      <td>NaN</td>\n      <td>#Flood in Bago Myanmar #We arrived Bago</td>\n      <td>1</td>\n    </tr>\n    <tr>\n      <th>14</th>\n      <td>20</td>\n      <td>NaN</td>\n      <td>NaN</td>\n      <td>Damage to school bus on 80 in multi car crash #BREAKING</td>\n      <td>1</td>\n    </tr>\n  </tbody>\n</table>\n</div>"
     },
     "execution_count": 420,
     "metadata": {},
     "output_type": "execute_result"
    }
   ],
   "source": [
    "df.head(15)"
   ],
   "metadata": {
    "collapsed": false,
    "pycharm": {
     "name": "#%%\n"
    }
   }
  },
  {
   "cell_type": "markdown",
   "source": [
    "---\n",
    "## Drop None(na) values"
   ],
   "metadata": {
    "collapsed": false,
    "pycharm": {
     "name": "#%% md\n"
    }
   }
  },
  {
   "cell_type": "markdown",
   "source": [
    "Delete rows with empty text values.\n",
    "These lines will not be useful to us because there is nothing to explore in them."
   ],
   "metadata": {
    "collapsed": false,
    "pycharm": {
     "name": "#%% md\n"
    }
   }
  },
  {
   "cell_type": "code",
   "execution_count": 421,
   "outputs": [],
   "source": [
    "df['text'].dropna(inplace=True)"
   ],
   "metadata": {
    "collapsed": false,
    "pycharm": {
     "name": "#%%\n"
    }
   }
  },
  {
   "cell_type": "markdown",
   "source": [
    "---\n",
    "## To lower case"
   ],
   "metadata": {
    "collapsed": false,
    "pycharm": {
     "name": "#%% md\n"
    }
   }
  },
  {
   "cell_type": "markdown",
   "source": [
    "Convert all words to lowercase to avoid a situation where the words **Mango** and **mango** are considered different."
   ],
   "metadata": {
    "collapsed": false,
    "pycharm": {
     "name": "#%% md\n"
    }
   }
  },
  {
   "cell_type": "code",
   "execution_count": 422,
   "outputs": [],
   "source": [
    "df['lower_text'] = [entry.lower() for entry in df['text']]"
   ],
   "metadata": {
    "collapsed": false,
    "pycharm": {
     "name": "#%%\n"
    }
   }
  },
  {
   "cell_type": "markdown",
   "source": [
    "---\n",
    "## Remove contractions"
   ],
   "metadata": {
    "collapsed": false,
    "pycharm": {
     "name": "#%% md\n"
    }
   }
  },
  {
   "cell_type": "markdown",
   "source": [
    "Change contractions __(for ex: can't've)__ to the full form of the word.\n",
    "**Ain't** and **am not** have the same meaning, but it will be easier for the program to understand if the first and second text is the same.\n",
    "\n"
   ],
   "metadata": {
    "collapsed": false,
    "pycharm": {
     "name": "#%% md\n"
    }
   }
  },
  {
   "cell_type": "code",
   "execution_count": 423,
   "outputs": [],
   "source": [
    "import json"
   ],
   "metadata": {
    "collapsed": false,
    "pycharm": {
     "name": "#%%\n"
    }
   }
  },
  {
   "cell_type": "code",
   "execution_count": 424,
   "outputs": [],
   "source": [
    "with open('../notebooks/en_contractions.json') as file:\n",
    "    contractions = json.load(file)"
   ],
   "metadata": {
    "collapsed": false,
    "pycharm": {
     "name": "#%%\n"
    }
   }
  },
  {
   "cell_type": "code",
   "execution_count": 425,
   "outputs": [],
   "source": [
    "def remove_contractions(text: str) -> str:\n",
    "    \"\"\"\n",
    "    Function to replace contractions with their longer forms\n",
    "\n",
    "    Args:\n",
    "    string text: text to replace contractions\n",
    "\n",
    "    Returns:\n",
    "    string: replaced text\n",
    "    \"\"\"\n",
    "    new_test = []\n",
    "    for t in text.split():\n",
    "        if t.lower() in contractions.keys():\n",
    "            new_test.append(contractions[t.lower()])\n",
    "        else:\n",
    "            new_test.append(t)\n",
    "\n",
    "    return ' '.join(new_test)\n",
    "\n",
    "    ## TODO: ????\n",
    "    # assert 'contractions' in globals(), \"Json file with contractions not loaded\"\n",
    "    # return contractions[text.lower()] if text.lower() in contractions.keys() else text"
   ],
   "metadata": {
    "collapsed": false,
    "pycharm": {
     "name": "#%%\n"
    }
   }
  },
  {
   "cell_type": "code",
   "execution_count": 426,
   "outputs": [],
   "source": [
    "df['without_contractions']=df['lower_text'].apply(remove_contractions)"
   ],
   "metadata": {
    "collapsed": false,
    "pycharm": {
     "name": "#%%\n"
    }
   }
  },
  {
   "cell_type": "markdown",
   "source": [
    "---\n",
    "## Data cleaning from noise"
   ],
   "metadata": {
    "collapsed": false,
    "pycharm": {
     "name": "#%% md\n"
    }
   }
  },
  {
   "cell_type": "markdown",
   "source": [
    "Removing noise from each line.\n",
    "Noise is considered to be things that do not carry the useful information that the user wants to convey in the text. (№,#,%, hyperlinks, URL, etc.)\n",
    "\n",
    "Emojis may also appear in the text. In some situations, they make sense. Script converts them into text for further use."
   ],
   "metadata": {
    "collapsed": false,
    "pycharm": {
     "name": "#%% md\n"
    }
   }
  },
  {
   "cell_type": "code",
   "execution_count": 427,
   "outputs": [],
   "source": [
    "import re, itertools, emoji"
   ],
   "metadata": {
    "collapsed": false,
    "pycharm": {
     "name": "#%%\n"
    }
   }
  },
  {
   "cell_type": "code",
   "execution_count": 428,
   "outputs": [],
   "source": [
    "def clean_dataset(text: str) -> str:\n",
    "    \"\"\"\n",
    "    Function to get rif off unwanted patterns\n",
    "    Args:\n",
    "    string text: text to clean\n",
    "\n",
    "    Returns:\n",
    "    string: replaced text\n",
    "    \"\"\"\n",
    "    # Remove hashtag while keeping hashtag text\n",
    "    text = re.sub(r'#','', text)\n",
    "    # Remove HTML special entities (e.g. &amp;)\n",
    "    text = re.sub(r'\\&\\w*;', '', text)\n",
    "    # Remove tickers\n",
    "    text = re.sub(r'\\$\\w*', '', text)\n",
    "    # Remove hyperlinks\n",
    "    text = re.sub(r'https?:\\/\\/.*\\/\\w*', '', text)\n",
    "    # Remove whitespace (including new line characters)\n",
    "    text = re.sub(r'\\s\\s+','', text)\n",
    "    text = re.sub(r'[ ]{2, }',' ',text)\n",
    "    # Remove URL, RT, mention(@)\n",
    "    text=  re.sub(r'http(\\S)+', '',text)\n",
    "    text=  re.sub(r'http ...', '',text)\n",
    "    text=  re.sub(r'(RT|rt)[ ]*@[ ]*[\\S]+','',text)\n",
    "    text=  re.sub(r'RT[ ]?@','',text)\n",
    "    text = re.sub(r'@[\\S]+','',text)\n",
    "\n",
    "    # TODO: why?? example id:13\n",
    "    #Remove words with 4 or fewer letters\n",
    "    #text = re.sub(r'\\b\\w{1,4}\\b', '', text)\n",
    "\n",
    "\n",
    "    #&, < and >\n",
    "    text = re.sub(r'&amp;?', 'and',text)\n",
    "    text = re.sub(r'&lt;','<',text)\n",
    "    text = re.sub(r'&gt;','>',text)\n",
    "    # Remove characters beyond Basic Multilingual Plane (BMP) of Unicode:\n",
    "    text= ''.join(c for c in text if c <= '\\uFFFF')\n",
    "    text = text.strip()\n",
    "    # Remove misspelling words\n",
    "    text = ''.join(''.join(s)[:2] for _, s in itertools.groupby(text))\n",
    "\n",
    "    # TODO:\n",
    "    # Remove emoji\n",
    "    text = emoji.demojize(text)\n",
    "    text = text.replace(\":\",\" \")\n",
    "    text = ' '.join(text.split())\n",
    "    text = re.sub(\"([^\\x00-\\x7F])+\",\" \",text)\n",
    "    # Remove Mojibake (also extra spaces)\n",
    "    text = ' '.join(re.sub(\"[^\\u4e00-\\u9fa5\\u0030-\\u0039\\u0041-\\u005a\\u0061-\\u007a]\", \" \", text).split())\n",
    "    return text"
   ],
   "metadata": {
    "collapsed": false,
    "pycharm": {
     "name": "#%%\n"
    }
   }
  },
  {
   "cell_type": "code",
   "execution_count": 429,
   "outputs": [],
   "source": [
    "df['without_noise'] = df['without_contractions'].apply(clean_dataset)"
   ],
   "metadata": {
    "collapsed": false,
    "pycharm": {
     "name": "#%%\n"
    }
   }
  },
  {
   "cell_type": "markdown",
   "source": [
    "---\n",
    "## Remove stopwords"
   ],
   "metadata": {
    "collapsed": false,
    "pycharm": {
     "name": "#%% md\n"
    }
   }
  },
  {
   "cell_type": "markdown",
   "source": [
    "Stop words - These are words that do not carry a semantic load, so their usefulness and role for searching is not significant."
   ],
   "metadata": {
    "collapsed": false,
    "pycharm": {
     "name": "#%% md\n"
    }
   }
  },
  {
   "cell_type": "code",
   "execution_count": 430,
   "outputs": [],
   "source": [
    "from wordcloud import STOPWORDS as stop\n",
    "import string"
   ],
   "metadata": {
    "collapsed": false,
    "pycharm": {
     "name": "#%%\n"
    }
   }
  },
  {
   "cell_type": "code",
   "execution_count": 431,
   "outputs": [],
   "source": [
    "# A collection of words and punctuation marks to remove from tweets\n",
    "punctuation = list(string.punctuation)\n",
    "stop.update(punctuation)"
   ],
   "metadata": {
    "collapsed": false,
    "pycharm": {
     "name": "#%%\n"
    }
   }
  },
  {
   "cell_type": "code",
   "execution_count": 432,
   "outputs": [],
   "source": [
    "def remove_stopwords(text: str) -> str:\n",
    "    \"\"\"\n",
    "\n",
    "    \"\"\"\n",
    "    final_text = []\n",
    "    for i in text.split():\n",
    "        if i.strip().lower() not in stop:\n",
    "            final_text.append(i.strip().replace('.',' ').replace(',',' '))\n",
    "    return \" \".join(final_text)"
   ],
   "metadata": {
    "collapsed": false,
    "pycharm": {
     "name": "#%%\n"
    }
   }
  },
  {
   "cell_type": "code",
   "execution_count": 433,
   "outputs": [],
   "source": [
    "df['without_stopwords'] = df['without_noise'].apply(remove_stopwords)"
   ],
   "metadata": {
    "collapsed": false,
    "pycharm": {
     "name": "#%%\n"
    }
   }
  },
  {
   "cell_type": "markdown",
   "source": [
    "---\n",
    "## language detection??"
   ],
   "metadata": {
    "collapsed": false,
    "pycharm": {
     "name": "#%% md\n"
    }
   }
  },
  {
   "cell_type": "code",
   "execution_count": 434,
   "outputs": [],
   "source": [
    "#TODO: Eng or another"
   ],
   "metadata": {
    "collapsed": false,
    "pycharm": {
     "name": "#%%\n"
    }
   }
  },
  {
   "cell_type": "code",
   "execution_count": 434,
   "outputs": [],
   "source": [],
   "metadata": {
    "collapsed": false,
    "pycharm": {
     "name": "#%%\n"
    }
   }
  },
  {
   "cell_type": "markdown",
   "source": [
    "---\n",
    "## Tokenization"
   ],
   "metadata": {
    "collapsed": false,
    "pycharm": {
     "name": "#%% md\n"
    }
   }
  },
  {
   "cell_type": "markdown",
   "source": [
    "Tokenization is the process of demarcating and possibly classifying sections of a string of input characters.\n",
    "The resulting tokens are then passed on to some other form of processing.\n",
    "\n",
    "In our case, we split the text into words."
   ],
   "metadata": {
    "collapsed": false,
    "pycharm": {
     "name": "#%% md\n"
    }
   }
  },
  {
   "cell_type": "code",
   "execution_count": 435,
   "outputs": [],
   "source": [
    "from nltk.tokenize import word_tokenize"
   ],
   "metadata": {
    "collapsed": false,
    "pycharm": {
     "name": "#%%\n"
    }
   }
  },
  {
   "cell_type": "code",
   "execution_count": 436,
   "outputs": [],
   "source": [
    "df['tokenized'] = df['without_stopwords'].apply(word_tokenize)"
   ],
   "metadata": {
    "collapsed": false,
    "pycharm": {
     "name": "#%%\n"
    }
   }
  },
  {
   "cell_type": "markdown",
   "source": [
    "---\n",
    "## Add parts of speech tags"
   ],
   "metadata": {
    "collapsed": false,
    "pycharm": {
     "name": "#%% md\n"
    }
   }
  },
  {
   "cell_type": "markdown",
   "source": [
    "Part of speech is a category of words that have similar grammatical properties.\n",
    "\n",
    "- CC: conjunction, coordinating\n",
    "- CD: numeral, cardinal\n",
    "- DT: determiner\n",
    "- EX: existential there\n",
    "- IN: preposition or conjunction, subordinating\n",
    "- JJ: adjective or numeral, ordinal\n",
    "- JJR: adjective, comparative\n",
    "- JJS: adjective, superlative\n",
    "- LS: list item marker\n",
    "- MD: modal auxiliary\n",
    "- NN: noun, common, singular or mass\n",
    "- NNP: noun, proper, singular\n",
    "- NNS: noun, common, plural\n",
    "- PDT: pre-determiner\n",
    "- POS: genitive marker\n",
    "- PRP: pronoun, personal\n",
    "- PRP$: pronoun, possessive\n",
    "- RB: adverb\n",
    "- RBR: adverb, comparative\n",
    "- RBS: adverb, superlative\n",
    "- RP: particle\n",
    "- TO: \"to\" as preposition or infinitive marker\n",
    "- UH: interjection\n",
    "- VB: verb, base form\n",
    "- VBD: verb, past tense\n",
    "- VBG: verb, present participle or gerund\n",
    "- VBN: verb, past participle\n",
    "- VBP: verb, present tense, not 3rd person singular\n",
    "- VBZ: verb, present tense, 3rd person singular\n",
    "- WDT: WH-determiner\n",
    "- WP: WH-pronoun\n",
    "- WRB: Wh-adverb\n",
    "\n",
    "[Details](https://stackoverflow.com/questions/15388831/what-are-all-possible-pos-tags-of-nltk)\n",
    "\n"
   ],
   "metadata": {
    "collapsed": false,
    "pycharm": {
     "name": "#%% md\n"
    }
   }
  },
  {
   "cell_type": "markdown",
   "source": [],
   "metadata": {
    "collapsed": false,
    "pycharm": {
     "name": "#%% md\n"
    }
   }
  },
  {
   "cell_type": "code",
   "execution_count": 437,
   "outputs": [],
   "source": [
    "from nltk.tag import pos_tag"
   ],
   "metadata": {
    "collapsed": false,
    "pycharm": {
     "name": "#%%\n"
    }
   }
  },
  {
   "cell_type": "code",
   "execution_count": 438,
   "outputs": [],
   "source": [
    "try:\n",
    "    df['pos_tags'] = df['tokenized'].apply(pos_tag)\n",
    "except LookupError:\n",
    "    import nltk\n",
    "    nltk.download('averaged_perceptron_tagger')\n",
    "    df['pos_tags'] = df['tokenized'].apply(pos_tag)\n"
   ],
   "metadata": {
    "collapsed": false,
    "pycharm": {
     "name": "#%%\n"
    }
   }
  },
  {
   "cell_type": "markdown",
   "source": [
    "---\n",
    "## Lemmatization"
   ],
   "metadata": {
    "collapsed": false,
    "pycharm": {
     "name": "#%% md\n"
    }
   }
  },
  {
   "cell_type": "markdown",
   "source": [
    "Lemmatization is the process of reducing a word form to a lemma.\n",
    "Lemma — its normal (dictionary) form."
   ],
   "metadata": {
    "collapsed": false,
    "pycharm": {
     "name": "#%% md\n"
    }
   }
  },
  {
   "cell_type": "code",
   "execution_count": 439,
   "outputs": [],
   "source": [
    "from nltk.stem import WordNetLemmatizer"
   ],
   "metadata": {
    "collapsed": false,
    "pycharm": {
     "name": "#%%\n"
    }
   }
  },
  {
   "cell_type": "code",
   "execution_count": 440,
   "outputs": [],
   "source": [
    "def lemmatization(words: list) -> list:\n",
    "    new_list = []\n",
    "    l = WordNetLemmatizer()\n",
    "\n",
    "    for w in words:\n",
    "        new_list.append(l.lemmatize(w))\n",
    "\n",
    "    return new_list"
   ],
   "metadata": {
    "collapsed": false,
    "pycharm": {
     "name": "#%%\n"
    }
   }
  },
  {
   "cell_type": "code",
   "execution_count": 441,
   "outputs": [],
   "source": [
    "df['lemmatized'] = df['tokenized'].apply(lemmatization)"
   ],
   "metadata": {
    "collapsed": false,
    "pycharm": {
     "name": "#%%\n"
    }
   }
  },
  {
   "cell_type": "code",
   "execution_count": 442,
   "outputs": [
    {
     "data": {
      "text/plain": "    id keyword location  \\\n0    1     NaN      NaN   \n1    4     NaN      NaN   \n2    5     NaN      NaN   \n3    6     NaN      NaN   \n4    7     NaN      NaN   \n5    8     NaN      NaN   \n6   10     NaN      NaN   \n7   13     NaN      NaN   \n8   14     NaN      NaN   \n9   15     NaN      NaN   \n10  16     NaN      NaN   \n11  17     NaN      NaN   \n12  18     NaN      NaN   \n13  19     NaN      NaN   \n14  20     NaN      NaN   \n\n                                                                                                   text  \\\n0                                 Our Deeds are the Reason of this #earthquake May ALLAH Forgive us all   \n1                                                                Forest fire near La Ronge Sask. Canada   \n2   All residents asked to 'shelter in place' are being notified by officers. No other evacuation or...   \n3                                     13,000 people receive #wildfires evacuation orders in California    \n4              Just got sent this photo from Ruby #Alaska as smoke from #wildfires pours into a school    \n5   #RockyFire Update => California Hwy. 20 closed in both directions due to Lake County fire - #CAf...   \n6       #flood #disaster Heavy rain causes flash flooding of streets in Manitou, Colorado Springs areas   \n7                                           I'm on top of the hill and I can see a fire in the woods...   \n8                       There's an emergency evacuation happening now in the building across the street   \n9                                                  I'm afraid that the tornado is coming to our area...   \n10                                                          Three people died from the heat wave so far   \n11  Haha South Tampa is getting flooded hah- WAIT A SECOND I LIVE IN SOUTH TAMPA WHAT AM I GONNA DO ...   \n12                         #raining #flooding #Florida #TampaBay #Tampa 18 or 19 days. I've lost count    \n13                                                              #Flood in Bago Myanmar #We arrived Bago   \n14                                             Damage to school bus on 80 in multi car crash #BREAKING    \n\n    target  \\\n0        1   \n1        1   \n2        1   \n3        1   \n4        1   \n5        1   \n6        1   \n7        1   \n8        1   \n9        1   \n10       1   \n11       1   \n12       1   \n13       1   \n14       1   \n\n                                                                                             lower_text  \\\n0                                 our deeds are the reason of this #earthquake may allah forgive us all   \n1                                                                forest fire near la ronge sask. canada   \n2   all residents asked to 'shelter in place' are being notified by officers. no other evacuation or...   \n3                                     13,000 people receive #wildfires evacuation orders in california    \n4              just got sent this photo from ruby #alaska as smoke from #wildfires pours into a school    \n5   #rockyfire update => california hwy. 20 closed in both directions due to lake county fire - #caf...   \n6       #flood #disaster heavy rain causes flash flooding of streets in manitou, colorado springs areas   \n7                                           i'm on top of the hill and i can see a fire in the woods...   \n8                       there's an emergency evacuation happening now in the building across the street   \n9                                                  i'm afraid that the tornado is coming to our area...   \n10                                                          three people died from the heat wave so far   \n11  haha south tampa is getting flooded hah- wait a second i live in south tampa what am i gonna do ...   \n12                         #raining #flooding #florida #tampabay #tampa 18 or 19 days. i've lost count    \n13                                                              #flood in bago myanmar #we arrived bago   \n14                                             damage to school bus on 80 in multi car crash #breaking    \n\n                                                                                   without_contractions  \\\n0                                 our deeds are the reason of this #earthquake may allah forgive us all   \n1                                                                forest fire near la ronge sask. canada   \n2   all residents asked to 'shelter in place' are being notified by officers. no other evacuation or...   \n3                                      13,000 people receive #wildfires evacuation orders in california   \n4               just got sent this photo from ruby #alaska as smoke from #wildfires pours into a school   \n5   #rockyfire update => california hwy. 20 closed in both directions due to lake county fire - #caf...   \n6       #flood #disaster heavy rain causes flash flooding of streets in manitou, colorado springs areas   \n7                                          i am on top of the hill and i can see a fire in the woods...   \n8                      there is an emergency evacuation happening now in the building across the street   \n9                                                 i am afraid that the tornado is coming to our area...   \n10                                                          three people died from the heat wave so far   \n11  haha south tampa is getting flooded hah- wait a second i live in south tampa what am i gonna do ...   \n12                        #raining #flooding #florida #tampabay #tampa 18 or 19 days. i have lost count   \n13                                                              #flood in bago myanmar #we arrived bago   \n14                                              damage to school bus on 80 in multi car crash #breaking   \n\n                                                                                          without_noise  \\\n0                                  our deeds are the reason of this earthquake may allah forgive us all   \n1                                                                 forest fire near la ronge sask canada   \n2   all residents asked to shelter in place are being notified by officers no other evacuation or sh...   \n3                                        13 00 people receive wildfires evacuation orders in california   \n4                 just got sent this photo from ruby alaska as smoke from wildfires pours into a school   \n5   rockyfire update california hwy 20 closed in both directions due to lake county fire cafire wild...   \n6          flood disaster heavy rain causes flash flooding of streets in manitou colorado springs areas   \n7                                             i am on top of the hill and i can see a fire in the woods   \n8                      there is an emergency evacuation happening now in the building across the street   \n9                                                    i am afraid that the tornado is coming to our area   \n10                                                          three people died from the heat wave so far   \n11  haha south tampa is getting flooded hah wait a second i live in south tampa what am i gonna do w...   \n12                              raining flooding florida tampabay tampa 18 or 19 days i have lost count   \n13                                                                flood in bago myanmar we arrived bago   \n14                                               damage to school bus on 80 in multi car crash breaking   \n\n                                                                              without_stopwords  \\\n0                                                  deeds reason earthquake may allah forgive us   \n1                                                         forest fire near la ronge sask canada   \n2      residents asked shelter place notified officers evacuation shelter place orders expected   \n3                                   13 00 people receive wildfires evacuation orders california   \n4                                       got sent photo ruby alaska smoke wildfires pours school   \n5    rockyfire update california hwy 20 closed directions due lake county fire cafire wildfires   \n6        flood disaster heavy rain causes flash flooding streets manitou colorado springs areas   \n7                                                                       top hill see fire woods   \n8                                     emergency evacuation happening now building across street   \n9                                                                    afraid tornado coming area   \n10                                                              three people died heat wave far   \n11  haha south tampa getting flooded hah wait second live south tampa gonna gonna fvck flooding   \n12                                raining flooding florida tampabay tampa 18 19 days lost count   \n13                                                              flood bago myanmar arrived bago   \n14                                                damage school bus 80 multi car crash breaking   \n\n                                                                                              tokenized  \\\n0                                                  [deeds, reason, earthquake, may, allah, forgive, us]   \n1                                                         [forest, fire, near, la, ronge, sask, canada]   \n2   [residents, asked, shelter, place, notified, officers, evacuation, shelter, place, orders, expec...   \n3                                  [13, 00, people, receive, wildfires, evacuation, orders, california]   \n4                                     [got, sent, photo, ruby, alaska, smoke, wildfires, pours, school]   \n5   [rockyfire, update, california, hwy, 20, closed, directions, due, lake, county, fire, cafire, wi...   \n6   [flood, disaster, heavy, rain, causes, flash, flooding, streets, manitou, colorado, springs, areas]   \n7                                                                         [top, hill, see, fire, woods]   \n8                                     [emergency, evacuation, happening, now, building, across, street]   \n9                                                                       [afraid, tornado, coming, area]   \n10                                                               [three, people, died, heat, wave, far]   \n11  [haha, south, tampa, getting, flooded, hah, wait, second, live, south, tampa, gon, na, gon, na, ...   \n12                             [raining, flooding, florida, tampabay, tampa, 18, 19, days, lost, count]   \n13                                                                [flood, bago, myanmar, arrived, bago]   \n14                                               [damage, school, bus, 80, multi, car, crash, breaking]   \n\n                                                                                               pos_tags  \\\n0      [(deeds, NNS), (reason, NN), (earthquake, NN), (may, MD), (allah, VB), (forgive, JJ), (us, PRP)]   \n1              [(forest, JJS), (fire, NN), (near, IN), (la, JJ), (ronge, NN), (sask, NN), (canada, NN)]   \n2   [(residents, NNS), (asked, VBD), (shelter, JJ), (place, NN), (notified, VBD), (officers, NNS), (...   \n3   [(13, CD), (00, CD), (people, NNS), (receive, JJ), (wildfires, NNS), (evacuation, NN), (orders, ...   \n4   [(got, VBD), (sent, JJ), (photo, NN), (ruby, NN), (alaska, NN), (smoke, NN), (wildfires, VBZ), (...   \n5   [(rockyfire, NN), (update, NN), (california, NN), (hwy, NN), (20, CD), (closed, JJ), (directions...   \n6   [(flood, NN), (disaster, NN), (heavy, JJ), (rain, NN), (causes, NNS), (flash, VBP), (flooding, V...   \n7                                         [(top, JJ), (hill, NN), (see, VBP), (fire, NN), (woods, NNS)]   \n8   [(emergency, NN), (evacuation, NN), (happening, VBG), (now, RB), (building, VBG), (across, IN), ...   \n9                                              [(afraid, JJ), (tornado, NN), (coming, VBG), (area, NN)]   \n10                         [(three, CD), (people, NNS), (died, VBD), (heat, NN), (wave, NN), (far, RB)]   \n11  [(haha, NN), (south, NN), (tampa, IN), (getting, VBG), (flooded, VBN), (hah, JJ), (wait, JJ), (s...   \n12  [(raining, VBG), (flooding, VBG), (florida, JJ), (tampabay, NN), (tampa, VBD), (18, CD), (19, CD...   \n13                                 [(flood, NN), (bago, NN), (myanmar, NN), (arrived, VBD), (bago, RB)]   \n14  [(damage, NN), (school, NN), (bus, NN), (80, CD), (multi, NN), (car, NN), (crash, NN), (breaking...   \n\n                                                                                             lemmatized  \n0                                                    [deed, reason, earthquake, may, allah, forgive, u]  \n1                                                         [forest, fire, near, la, ronge, sask, canada]  \n2     [resident, asked, shelter, place, notified, officer, evacuation, shelter, place, order, expected]  \n3                                    [13, 00, people, receive, wildfire, evacuation, order, california]  \n4                                      [got, sent, photo, ruby, alaska, smoke, wildfire, pours, school]  \n5   [rockyfire, update, california, hwy, 20, closed, direction, due, lake, county, fire, cafire, wil...  \n6       [flood, disaster, heavy, rain, cause, flash, flooding, street, manitou, colorado, spring, area]  \n7                                                                          [top, hill, see, fire, wood]  \n8                                     [emergency, evacuation, happening, now, building, across, street]  \n9                                                                       [afraid, tornado, coming, area]  \n10                                                               [three, people, died, heat, wave, far]  \n11  [haha, south, tampa, getting, flooded, hah, wait, second, live, south, tampa, gon, na, gon, na, ...  \n12                              [raining, flooding, florida, tampabay, tampa, 18, 19, day, lost, count]  \n13                                                                [flood, bago, myanmar, arrived, bago]  \n14                                               [damage, school, bus, 80, multi, car, crash, breaking]  ",
      "text/html": "<div>\n<style scoped>\n    .dataframe tbody tr th:only-of-type {\n        vertical-align: middle;\n    }\n\n    .dataframe tbody tr th {\n        vertical-align: top;\n    }\n\n    .dataframe thead th {\n        text-align: right;\n    }\n</style>\n<table border=\"1\" class=\"dataframe\">\n  <thead>\n    <tr style=\"text-align: right;\">\n      <th></th>\n      <th>id</th>\n      <th>keyword</th>\n      <th>location</th>\n      <th>text</th>\n      <th>target</th>\n      <th>lower_text</th>\n      <th>without_contractions</th>\n      <th>without_noise</th>\n      <th>without_stopwords</th>\n      <th>tokenized</th>\n      <th>pos_tags</th>\n      <th>lemmatized</th>\n    </tr>\n  </thead>\n  <tbody>\n    <tr>\n      <th>0</th>\n      <td>1</td>\n      <td>NaN</td>\n      <td>NaN</td>\n      <td>Our Deeds are the Reason of this #earthquake May ALLAH Forgive us all</td>\n      <td>1</td>\n      <td>our deeds are the reason of this #earthquake may allah forgive us all</td>\n      <td>our deeds are the reason of this #earthquake may allah forgive us all</td>\n      <td>our deeds are the reason of this earthquake may allah forgive us all</td>\n      <td>deeds reason earthquake may allah forgive us</td>\n      <td>[deeds, reason, earthquake, may, allah, forgive, us]</td>\n      <td>[(deeds, NNS), (reason, NN), (earthquake, NN), (may, MD), (allah, VB), (forgive, JJ), (us, PRP)]</td>\n      <td>[deed, reason, earthquake, may, allah, forgive, u]</td>\n    </tr>\n    <tr>\n      <th>1</th>\n      <td>4</td>\n      <td>NaN</td>\n      <td>NaN</td>\n      <td>Forest fire near La Ronge Sask. Canada</td>\n      <td>1</td>\n      <td>forest fire near la ronge sask. canada</td>\n      <td>forest fire near la ronge sask. canada</td>\n      <td>forest fire near la ronge sask canada</td>\n      <td>forest fire near la ronge sask canada</td>\n      <td>[forest, fire, near, la, ronge, sask, canada]</td>\n      <td>[(forest, JJS), (fire, NN), (near, IN), (la, JJ), (ronge, NN), (sask, NN), (canada, NN)]</td>\n      <td>[forest, fire, near, la, ronge, sask, canada]</td>\n    </tr>\n    <tr>\n      <th>2</th>\n      <td>5</td>\n      <td>NaN</td>\n      <td>NaN</td>\n      <td>All residents asked to 'shelter in place' are being notified by officers. No other evacuation or...</td>\n      <td>1</td>\n      <td>all residents asked to 'shelter in place' are being notified by officers. no other evacuation or...</td>\n      <td>all residents asked to 'shelter in place' are being notified by officers. no other evacuation or...</td>\n      <td>all residents asked to shelter in place are being notified by officers no other evacuation or sh...</td>\n      <td>residents asked shelter place notified officers evacuation shelter place orders expected</td>\n      <td>[residents, asked, shelter, place, notified, officers, evacuation, shelter, place, orders, expec...</td>\n      <td>[(residents, NNS), (asked, VBD), (shelter, JJ), (place, NN), (notified, VBD), (officers, NNS), (...</td>\n      <td>[resident, asked, shelter, place, notified, officer, evacuation, shelter, place, order, expected]</td>\n    </tr>\n    <tr>\n      <th>3</th>\n      <td>6</td>\n      <td>NaN</td>\n      <td>NaN</td>\n      <td>13,000 people receive #wildfires evacuation orders in California</td>\n      <td>1</td>\n      <td>13,000 people receive #wildfires evacuation orders in california</td>\n      <td>13,000 people receive #wildfires evacuation orders in california</td>\n      <td>13 00 people receive wildfires evacuation orders in california</td>\n      <td>13 00 people receive wildfires evacuation orders california</td>\n      <td>[13, 00, people, receive, wildfires, evacuation, orders, california]</td>\n      <td>[(13, CD), (00, CD), (people, NNS), (receive, JJ), (wildfires, NNS), (evacuation, NN), (orders, ...</td>\n      <td>[13, 00, people, receive, wildfire, evacuation, order, california]</td>\n    </tr>\n    <tr>\n      <th>4</th>\n      <td>7</td>\n      <td>NaN</td>\n      <td>NaN</td>\n      <td>Just got sent this photo from Ruby #Alaska as smoke from #wildfires pours into a school</td>\n      <td>1</td>\n      <td>just got sent this photo from ruby #alaska as smoke from #wildfires pours into a school</td>\n      <td>just got sent this photo from ruby #alaska as smoke from #wildfires pours into a school</td>\n      <td>just got sent this photo from ruby alaska as smoke from wildfires pours into a school</td>\n      <td>got sent photo ruby alaska smoke wildfires pours school</td>\n      <td>[got, sent, photo, ruby, alaska, smoke, wildfires, pours, school]</td>\n      <td>[(got, VBD), (sent, JJ), (photo, NN), (ruby, NN), (alaska, NN), (smoke, NN), (wildfires, VBZ), (...</td>\n      <td>[got, sent, photo, ruby, alaska, smoke, wildfire, pours, school]</td>\n    </tr>\n    <tr>\n      <th>5</th>\n      <td>8</td>\n      <td>NaN</td>\n      <td>NaN</td>\n      <td>#RockyFire Update =&gt; California Hwy. 20 closed in both directions due to Lake County fire - #CAf...</td>\n      <td>1</td>\n      <td>#rockyfire update =&gt; california hwy. 20 closed in both directions due to lake county fire - #caf...</td>\n      <td>#rockyfire update =&gt; california hwy. 20 closed in both directions due to lake county fire - #caf...</td>\n      <td>rockyfire update california hwy 20 closed in both directions due to lake county fire cafire wild...</td>\n      <td>rockyfire update california hwy 20 closed directions due lake county fire cafire wildfires</td>\n      <td>[rockyfire, update, california, hwy, 20, closed, directions, due, lake, county, fire, cafire, wi...</td>\n      <td>[(rockyfire, NN), (update, NN), (california, NN), (hwy, NN), (20, CD), (closed, JJ), (directions...</td>\n      <td>[rockyfire, update, california, hwy, 20, closed, direction, due, lake, county, fire, cafire, wil...</td>\n    </tr>\n    <tr>\n      <th>6</th>\n      <td>10</td>\n      <td>NaN</td>\n      <td>NaN</td>\n      <td>#flood #disaster Heavy rain causes flash flooding of streets in Manitou, Colorado Springs areas</td>\n      <td>1</td>\n      <td>#flood #disaster heavy rain causes flash flooding of streets in manitou, colorado springs areas</td>\n      <td>#flood #disaster heavy rain causes flash flooding of streets in manitou, colorado springs areas</td>\n      <td>flood disaster heavy rain causes flash flooding of streets in manitou colorado springs areas</td>\n      <td>flood disaster heavy rain causes flash flooding streets manitou colorado springs areas</td>\n      <td>[flood, disaster, heavy, rain, causes, flash, flooding, streets, manitou, colorado, springs, areas]</td>\n      <td>[(flood, NN), (disaster, NN), (heavy, JJ), (rain, NN), (causes, NNS), (flash, VBP), (flooding, V...</td>\n      <td>[flood, disaster, heavy, rain, cause, flash, flooding, street, manitou, colorado, spring, area]</td>\n    </tr>\n    <tr>\n      <th>7</th>\n      <td>13</td>\n      <td>NaN</td>\n      <td>NaN</td>\n      <td>I'm on top of the hill and I can see a fire in the woods...</td>\n      <td>1</td>\n      <td>i'm on top of the hill and i can see a fire in the woods...</td>\n      <td>i am on top of the hill and i can see a fire in the woods...</td>\n      <td>i am on top of the hill and i can see a fire in the woods</td>\n      <td>top hill see fire woods</td>\n      <td>[top, hill, see, fire, woods]</td>\n      <td>[(top, JJ), (hill, NN), (see, VBP), (fire, NN), (woods, NNS)]</td>\n      <td>[top, hill, see, fire, wood]</td>\n    </tr>\n    <tr>\n      <th>8</th>\n      <td>14</td>\n      <td>NaN</td>\n      <td>NaN</td>\n      <td>There's an emergency evacuation happening now in the building across the street</td>\n      <td>1</td>\n      <td>there's an emergency evacuation happening now in the building across the street</td>\n      <td>there is an emergency evacuation happening now in the building across the street</td>\n      <td>there is an emergency evacuation happening now in the building across the street</td>\n      <td>emergency evacuation happening now building across street</td>\n      <td>[emergency, evacuation, happening, now, building, across, street]</td>\n      <td>[(emergency, NN), (evacuation, NN), (happening, VBG), (now, RB), (building, VBG), (across, IN), ...</td>\n      <td>[emergency, evacuation, happening, now, building, across, street]</td>\n    </tr>\n    <tr>\n      <th>9</th>\n      <td>15</td>\n      <td>NaN</td>\n      <td>NaN</td>\n      <td>I'm afraid that the tornado is coming to our area...</td>\n      <td>1</td>\n      <td>i'm afraid that the tornado is coming to our area...</td>\n      <td>i am afraid that the tornado is coming to our area...</td>\n      <td>i am afraid that the tornado is coming to our area</td>\n      <td>afraid tornado coming area</td>\n      <td>[afraid, tornado, coming, area]</td>\n      <td>[(afraid, JJ), (tornado, NN), (coming, VBG), (area, NN)]</td>\n      <td>[afraid, tornado, coming, area]</td>\n    </tr>\n    <tr>\n      <th>10</th>\n      <td>16</td>\n      <td>NaN</td>\n      <td>NaN</td>\n      <td>Three people died from the heat wave so far</td>\n      <td>1</td>\n      <td>three people died from the heat wave so far</td>\n      <td>three people died from the heat wave so far</td>\n      <td>three people died from the heat wave so far</td>\n      <td>three people died heat wave far</td>\n      <td>[three, people, died, heat, wave, far]</td>\n      <td>[(three, CD), (people, NNS), (died, VBD), (heat, NN), (wave, NN), (far, RB)]</td>\n      <td>[three, people, died, heat, wave, far]</td>\n    </tr>\n    <tr>\n      <th>11</th>\n      <td>17</td>\n      <td>NaN</td>\n      <td>NaN</td>\n      <td>Haha South Tampa is getting flooded hah- WAIT A SECOND I LIVE IN SOUTH TAMPA WHAT AM I GONNA DO ...</td>\n      <td>1</td>\n      <td>haha south tampa is getting flooded hah- wait a second i live in south tampa what am i gonna do ...</td>\n      <td>haha south tampa is getting flooded hah- wait a second i live in south tampa what am i gonna do ...</td>\n      <td>haha south tampa is getting flooded hah wait a second i live in south tampa what am i gonna do w...</td>\n      <td>haha south tampa getting flooded hah wait second live south tampa gonna gonna fvck flooding</td>\n      <td>[haha, south, tampa, getting, flooded, hah, wait, second, live, south, tampa, gon, na, gon, na, ...</td>\n      <td>[(haha, NN), (south, NN), (tampa, IN), (getting, VBG), (flooded, VBN), (hah, JJ), (wait, JJ), (s...</td>\n      <td>[haha, south, tampa, getting, flooded, hah, wait, second, live, south, tampa, gon, na, gon, na, ...</td>\n    </tr>\n    <tr>\n      <th>12</th>\n      <td>18</td>\n      <td>NaN</td>\n      <td>NaN</td>\n      <td>#raining #flooding #Florida #TampaBay #Tampa 18 or 19 days. I've lost count</td>\n      <td>1</td>\n      <td>#raining #flooding #florida #tampabay #tampa 18 or 19 days. i've lost count</td>\n      <td>#raining #flooding #florida #tampabay #tampa 18 or 19 days. i have lost count</td>\n      <td>raining flooding florida tampabay tampa 18 or 19 days i have lost count</td>\n      <td>raining flooding florida tampabay tampa 18 19 days lost count</td>\n      <td>[raining, flooding, florida, tampabay, tampa, 18, 19, days, lost, count]</td>\n      <td>[(raining, VBG), (flooding, VBG), (florida, JJ), (tampabay, NN), (tampa, VBD), (18, CD), (19, CD...</td>\n      <td>[raining, flooding, florida, tampabay, tampa, 18, 19, day, lost, count]</td>\n    </tr>\n    <tr>\n      <th>13</th>\n      <td>19</td>\n      <td>NaN</td>\n      <td>NaN</td>\n      <td>#Flood in Bago Myanmar #We arrived Bago</td>\n      <td>1</td>\n      <td>#flood in bago myanmar #we arrived bago</td>\n      <td>#flood in bago myanmar #we arrived bago</td>\n      <td>flood in bago myanmar we arrived bago</td>\n      <td>flood bago myanmar arrived bago</td>\n      <td>[flood, bago, myanmar, arrived, bago]</td>\n      <td>[(flood, NN), (bago, NN), (myanmar, NN), (arrived, VBD), (bago, RB)]</td>\n      <td>[flood, bago, myanmar, arrived, bago]</td>\n    </tr>\n    <tr>\n      <th>14</th>\n      <td>20</td>\n      <td>NaN</td>\n      <td>NaN</td>\n      <td>Damage to school bus on 80 in multi car crash #BREAKING</td>\n      <td>1</td>\n      <td>damage to school bus on 80 in multi car crash #breaking</td>\n      <td>damage to school bus on 80 in multi car crash #breaking</td>\n      <td>damage to school bus on 80 in multi car crash breaking</td>\n      <td>damage school bus 80 multi car crash breaking</td>\n      <td>[damage, school, bus, 80, multi, car, crash, breaking]</td>\n      <td>[(damage, NN), (school, NN), (bus, NN), (80, CD), (multi, NN), (car, NN), (crash, NN), (breaking...</td>\n      <td>[damage, school, bus, 80, multi, car, crash, breaking]</td>\n    </tr>\n  </tbody>\n</table>\n</div>"
     },
     "execution_count": 442,
     "metadata": {},
     "output_type": "execute_result"
    }
   ],
   "source": [
    "df.head(15)"
   ],
   "metadata": {
    "collapsed": false,
    "pycharm": {
     "name": "#%%\n"
    }
   }
  },
  {
   "cell_type": "markdown",
   "source": [
    "---\n",
    "## Save clear data"
   ],
   "metadata": {
    "collapsed": false,
    "pycharm": {
     "name": "#%% md\n"
    }
   }
  },
  {
   "cell_type": "code",
   "execution_count": 443,
   "outputs": [],
   "source": [
    "from datetime import datetime"
   ],
   "metadata": {
    "collapsed": false,
    "pycharm": {
     "name": "#%%\n"
    }
   }
  },
  {
   "cell_type": "code",
   "execution_count": 444,
   "outputs": [],
   "source": [
    "CLEAR_PATH = r\"../data/clear/\"\n",
    "NAME = f\"clear_{datetime.utcnow().strftime('%Y%m%d_%H%M%S_%f')[:-3]}.csv\""
   ],
   "metadata": {
    "collapsed": false,
    "pycharm": {
     "name": "#%%\n"
    }
   }
  },
  {
   "cell_type": "code",
   "execution_count": 445,
   "outputs": [],
   "source": [
    "df.to_csv(CLEAR_PATH+NAME, encoding='utf-8', index=False)"
   ],
   "metadata": {
    "collapsed": false,
    "pycharm": {
     "name": "#%%\n"
    }
   }
  }
 ],
 "metadata": {
  "kernelspec": {
   "display_name": "Python 3",
   "language": "python",
   "name": "python3"
  },
  "language_info": {
   "codemirror_mode": {
    "name": "ipython",
    "version": 2
   },
   "file_extension": ".py",
   "mimetype": "text/x-python",
   "name": "python",
   "nbconvert_exporter": "python",
   "pygments_lexer": "ipython2",
   "version": "2.7.6"
  }
 },
 "nbformat": 4,
 "nbformat_minor": 0
}