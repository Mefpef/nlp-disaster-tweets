{
 "cells": [
  {
   "cell_type": "code",
   "execution_count": 3,
   "metadata": {},
   "outputs": [
    {
     "ename": "ModuleNotFoundError",
     "evalue": "No module named 'pandas'",
     "output_type": "error",
     "traceback": [
      "\u001b[1;31m---------------------------------------------------------------------------\u001b[0m",
      "\u001b[1;31mModuleNotFoundError\u001b[0m                       Traceback (most recent call last)",
      "\u001b[1;32mc:\\Projects\\nlp-disaster-tweets\\reports\\Preprocessor_comparison.ipynb Cell 1\u001b[0m in \u001b[0;36m<cell line: 6>\u001b[1;34m()\u001b[0m\n\u001b[0;32m      <a href='vscode-notebook-cell:/c%3A/Projects/nlp-disaster-tweets/reports/Preprocessor_comparison.ipynb#ch0000000?line=2'>3</a>\u001b[0m \u001b[39mimport\u001b[39;00m \u001b[39mdatetime\u001b[39;00m\n\u001b[0;32m      <a href='vscode-notebook-cell:/c%3A/Projects/nlp-disaster-tweets/reports/Preprocessor_comparison.ipynb#ch0000000?line=3'>4</a>\u001b[0m \u001b[39mfrom\u001b[39;00m \u001b[39mtyping\u001b[39;00m \u001b[39mimport\u001b[39;00m Any, Iterable\n\u001b[1;32m----> <a href='vscode-notebook-cell:/c%3A/Projects/nlp-disaster-tweets/reports/Preprocessor_comparison.ipynb#ch0000000?line=5'>6</a>\u001b[0m \u001b[39mimport\u001b[39;00m \u001b[39mpandas\u001b[39;00m \u001b[39mas\u001b[39;00m \u001b[39mpd\u001b[39;00m\n\u001b[0;32m      <a href='vscode-notebook-cell:/c%3A/Projects/nlp-disaster-tweets/reports/Preprocessor_comparison.ipynb#ch0000000?line=6'>7</a>\u001b[0m \u001b[39mfrom\u001b[39;00m \u001b[39msklearn\u001b[39;00m\u001b[39m.\u001b[39;00m\u001b[39mmodel_selection\u001b[39;00m \u001b[39mimport\u001b[39;00m train_test_split\n\u001b[0;32m      <a href='vscode-notebook-cell:/c%3A/Projects/nlp-disaster-tweets/reports/Preprocessor_comparison.ipynb#ch0000000?line=7'>8</a>\u001b[0m \u001b[39mfrom\u001b[39;00m \u001b[39msklearn\u001b[39;00m \u001b[39mimport\u001b[39;00m metrics\n",
      "\u001b[1;31mModuleNotFoundError\u001b[0m: No module named 'pandas'"
     ]
    }
   ],
   "source": [
    "# \n",
    "\n",
    "import datetime\n",
    "from typing import Any, Iterable\n",
    "\n",
    "import pandas as pd\n",
    "from sklearn.model_selection import train_test_split\n",
    "from sklearn import metrics\n",
    "from sklearn import svm\n",
    "\n",
    "\n",
    "def generate_perf_report(\n",
    "    X: Iterable, y: Iterable, *,\n",
    "    name: str = \"sample\",\n",
    "    description: str = \"no description\",\n",
    "    clf: Any = None,\n",
    "    date_fmt: str = \"%Y-%m-%d %H:%M:%S\",\n",
    "    test_size: float = .15,\n",
    ") -> pd.Series:\n",
    "    \"\"\"\n",
    "    Generate a report gathering main model classification metrics.\n",
    "\n",
    "    Parameters\n",
    "    ----------\n",
    "    X : iterable of shape (n_samples, n_features)\n",
    "        Sparse matrix of shape (n_samples, n_features).\n",
    "    y : iterable\n",
    "        Target values (class labels).\n",
    "    name : str\n",
    "        Name of the report, by default \"sample\".\n",
    "    description : str\n",
    "        Optional description for better understanding of the report.\n",
    "    clf : Any\n",
    "        Vector classification. Defaults to C-Support Vector Classification\n",
    "        (`sklearn.svm.SVC`).\n",
    "    test_size : float or int, default=0.15\n",
    "        See `sklearn.model_selection.train_test_split` documentation\n",
    "        for details on this parameter.\n",
    "    date_fmt : str, default=\"%Y-%m-%d %H:%M:%S\"\n",
    "        Date format.\n",
    "\n",
    "    Returns\n",
    "    -------\n",
    "    report : pd.Series\n",
    "        Report with specified name, date, description, test size, \n",
    "        precision score, recall score, f-measure, accuracy and ROC \n",
    "        AUC score in human-friendly format.\n",
    "    \"\"\"  # needs review\n",
    "    date = datetime.datetime.now().strftime(date_fmt)\n",
    "\n",
    "    clf = clf or svm.SVC()\n",
    "\n",
    "    X_train, X_test, y_train, y_test = train_test_split(X, y, test_size=test_size)\n",
    "\n",
    "    model = clf.fit(X_train, y_train)\n",
    "    predictions = model.predict(X_test)  # type: ignore\n",
    "\n",
    "    return pd.Series({\n",
    "        \"Date\": date,\n",
    "        \"Description\": description,\n",
    "        \"Test Size\": test_size,\n",
    "        \"Precision\": metrics.precision_score(y_test, predictions),\n",
    "        \"Recall\": metrics.recall_score(y_test, predictions),\n",
    "        # F-measure\n",
    "        \"F1 Score\": metrics.f1_score(y_test, predictions),\n",
    "        \"Accuracy\": metrics.accuracy_score(y_test, predictions),\n",
    "        # Area Under the Receiver Operating Characteristic Curve (ROC AUC)\n",
    "        \"Roc_auc_score\": metrics.roc_auc_score(y_test, predictions)\n",
    "    }, name=name)\n"
   ]
  },
  {
   "cell_type": "code",
   "execution_count": null,
   "metadata": {},
   "outputs": [
    {
     "ename": "ModuleNotFoundError",
     "evalue": "No module named 'pandas'",
     "output_type": "error",
     "traceback": [
      "\u001b[1;31m---------------------------------------------------------------------------\u001b[0m",
      "\u001b[1;31mModuleNotFoundError\u001b[0m                       Traceback (most recent call last)",
      "\u001b[1;32mc:\\Projects\\nlp-disaster-tweets\\reports\\Preprocessor_comparison.ipynb Cell 2\u001b[0m in \u001b[0;36m<cell line: 1>\u001b[1;34m()\u001b[0m\n\u001b[1;32m----> <a href='vscode-notebook-cell:/c%3A/Projects/nlp-disaster-tweets/reports/Preprocessor_comparison.ipynb#ch0000001?line=0'>1</a>\u001b[0m \u001b[39mimport\u001b[39;00m \u001b[39mpandas\u001b[39;00m \u001b[39mas\u001b[39;00m \u001b[39mpd\u001b[39;00m \n\u001b[0;32m      <a href='vscode-notebook-cell:/c%3A/Projects/nlp-disaster-tweets/reports/Preprocessor_comparison.ipynb#ch0000001?line=1'>2</a>\u001b[0m \u001b[39mfrom\u001b[39;00m \u001b[39msklearn\u001b[39;00m\u001b[39m.\u001b[39;00m\u001b[39mfeature_extraction\u001b[39;00m\u001b[39m.\u001b[39;00m\u001b[39mtext\u001b[39;00m \u001b[39mimport\u001b[39;00m TfidfVectorizer\n\u001b[0;32m      <a href='vscode-notebook-cell:/c%3A/Projects/nlp-disaster-tweets/reports/Preprocessor_comparison.ipynb#ch0000001?line=2'>3</a>\u001b[0m \u001b[39m# from models.production.validation import generate_perf_report\u001b[39;00m\n\u001b[0;32m      <a href='vscode-notebook-cell:/c%3A/Projects/nlp-disaster-tweets/reports/Preprocessor_comparison.ipynb#ch0000001?line=3'>4</a>\u001b[0m \n\u001b[0;32m      <a href='vscode-notebook-cell:/c%3A/Projects/nlp-disaster-tweets/reports/Preprocessor_comparison.ipynb#ch0000001?line=4'>5</a>\u001b[0m \u001b[39m# Load the training data, prepare the TF-IDF vectorizer just for this demo\u001b[39;00m\n",
      "\u001b[1;31mModuleNotFoundError\u001b[0m: No module named 'pandas'"
     ]
    }
   ],
   "source": [
    "import pandas as pd \n",
    "from sklearn.feature_extraction.text import TfidfVectorizer\n",
    "# from models.production.validation import generate_perf_report\n",
    "\n",
    "# Load the training data, prepare the TF-IDF vectorizer just for this demo\n",
    "df = pd.read_csv(r\"data\\original\\train.csv\")\n",
    "tfidf_vect = TfidfVectorizer(max_features=5000)\n",
    "\n",
    "# Prepare training data and target values\n",
    "X = tfidf_vect.fit_transform(df['text'])\n",
    "y = df[\"target\"].copy()\n",
    "\n",
    "# Generate and print the report\n",
    "report = generate_perf_report(\n",
    "    X, y, name=\"demo report\", description=\"tfidf vectorizer and no preprocessing\"\n",
    ")\n",
    "print(report)\n"
   ]
  }
 ],
 "metadata": {
  "kernelspec": {
   "display_name": "Python 3.10.4 64-bit",
   "language": "python",
   "name": "python3"
  },
  "language_info": {
   "codemirror_mode": {
    "name": "ipython",
    "version": 3
   },
   "file_extension": ".py",
   "mimetype": "text/x-python",
   "name": "python",
   "nbconvert_exporter": "python",
   "pygments_lexer": "ipython3",
   "version": "3.10.4"
  },
  "orig_nbformat": 4,
  "vscode": {
   "interpreter": {
    "hash": "33a3962fd6389e74ad5090f59f7fb10ebc1d08f349e3469497e62b88c3d68f9b"
   }
  }
 },
 "nbformat": 4,
 "nbformat_minor": 2
}
