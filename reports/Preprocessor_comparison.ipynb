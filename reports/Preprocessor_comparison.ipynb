{
 "cells": [
  {
   "cell_type": "code",
   "execution_count": 1,
   "metadata": {},
   "outputs": [],
   "source": [
    "# \n",
    "\n",
    "import datetime\n",
    "from typing import Any, Iterable\n",
    "\n",
    "import pandas as pd\n",
    "from sklearn.model_selection import train_test_split\n",
    "from sklearn import metrics\n",
    "from sklearn import svm\n",
    "\n",
    "\n",
    "def generate_perf_report(\n",
    "    X: Iterable, y: Iterable, *,\n",
    "    name: str = \"sample\",\n",
    "    description: str = \"no description\",\n",
    "    clf: Any = None,\n",
    "    date_fmt: str = \"%Y-%m-%d %H:%M:%S\",\n",
    "    test_size: float = .15,\n",
    ") -> pd.Series:\n",
    "    \"\"\"\n",
    "    Generate a report gathering main model classification metrics.\n",
    "\n",
    "    Parameters\n",
    "    ----------\n",
    "    X : iterable of shape (n_samples, n_features)\n",
    "        Sparse matrix of shape (n_samples, n_features).\n",
    "    y : iterable\n",
    "        Target values (class labels).\n",
    "    name : str\n",
    "        Name of the report, by default \"sample\".\n",
    "    description : str\n",
    "        Optional description for better understanding of the report.\n",
    "    clf : Any\n",
    "        Vector classification. Defaults to C-Support Vector Classification\n",
    "        (`sklearn.svm.SVC`).\n",
    "    test_size : float or int, default=0.15\n",
    "        See `sklearn.model_selection.train_test_split` documentation\n",
    "        for details on this parameter.\n",
    "    date_fmt : str, default=\"%Y-%m-%d %H:%M:%S\"\n",
    "        Date format.\n",
    "\n",
    "    Returns\n",
    "    -------\n",
    "    report : pd.Series\n",
    "        Report with specified name, date, description, test size, \n",
    "        precision score, recall score, f-measure, accuracy and ROC \n",
    "        AUC score in human-friendly format.\n",
    "    \"\"\"  # needs review\n",
    "    date = datetime.datetime.now().strftime(date_fmt)\n",
    "\n",
    "    clf = clf or svm.SVC()\n",
    "\n",
    "    X_train, X_test, y_train, y_test = train_test_split(X, y, test_size=test_size)\n",
    "\n",
    "    model = clf.fit(X_train, y_train)\n",
    "    predictions = model.predict(X_test)  # type: ignore\n",
    "\n",
    "    return pd.Series({\n",
    "        \"Date\": date,\n",
    "        \"Description\": description,\n",
    "        \"Test Size\": test_size,\n",
    "        \"Precision\": metrics.precision_score(y_test, predictions),\n",
    "        \"Recall\": metrics.recall_score(y_test, predictions),\n",
    "        # F-measure\n",
    "        \"F1 Score\": metrics.f1_score(y_test, predictions),\n",
    "        \"Accuracy\": metrics.accuracy_score(y_test, predictions),\n",
    "        # Area Under the Receiver Operating Characteristic Curve (ROC AUC)\n",
    "        \"Roc_auc_score\": metrics.roc_auc_score(y_test, predictions)\n",
    "    }, name=name)\n"
   ]
  },
  {
   "cell_type": "code",
   "execution_count": 3,
   "metadata": {},
   "outputs": [
    {
     "name": "stdout",
     "output_type": "stream",
     "text": [
      "Date                               2022-08-16 00:18:10\n",
      "Description      tfidf vectorizer and no preprocessing\n",
      "Test Size                                         0.15\n",
      "Precision                                     0.871233\n",
      "Recall                                        0.651639\n",
      "F1 Score                                      0.745604\n",
      "Accuracy                                      0.809982\n",
      "Roc_auc_score                                 0.789887\n",
      "Name: demo report, dtype: object\n"
     ]
    }
   ],
   "source": [
    "import pandas as pd \n",
    "from sklearn.feature_extraction.text import TfidfVectorizer\n",
    "# from models.production.validation import generate_perf_report\n",
    "\n",
    "# Load the training data, prepare the TF-IDF vectorizer just for this demo\n",
    "df = pd.read_csv(r\"..\\data\\original\\train.csv\")\n",
    "tfidf_vect = TfidfVectorizer(max_features=5000)\n",
    "\n",
    "# Prepare training data and target values\n",
    "X = tfidf_vect.fit_transform(df['text'])\n",
    "y = df[\"target\"].copy()\n",
    "\n",
    "# Generate and print the report\n",
    "report = generate_perf_report(\n",
    "    X, y, name=\"demo report\", description=\"tfidf vectorizer and no preprocessing\"\n",
    ")\n",
    "print(report)\n"
   ]
  }
 ],
 "metadata": {
  "kernelspec": {
   "display_name": "Python 3.9.12 ('deepl')",
   "language": "python",
   "name": "python3"
  },
  "language_info": {
   "codemirror_mode": {
    "name": "ipython",
    "version": 3
   },
   "file_extension": ".py",
   "mimetype": "text/x-python",
   "name": "python",
   "nbconvert_exporter": "python",
   "pygments_lexer": "ipython3",
   "version": "3.9.12"
  },
  "orig_nbformat": 4,
  "vscode": {
   "interpreter": {
    "hash": "5856402b0be2a7d30e17efe28550a410aa443c3ba370d942c01fce663fda1e9c"
   }
  }
 },
 "nbformat": 4,
 "nbformat_minor": 2
}
