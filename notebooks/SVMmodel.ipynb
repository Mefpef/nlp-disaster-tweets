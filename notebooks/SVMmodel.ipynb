{
 "cells": [
  {
   "cell_type": "code",
   "execution_count": 31,
   "metadata": {},
   "outputs": [],
   "source": [
    "import pandas as pd \n",
    "import numpy as np\n",
    "import matplotlib.pyplot as plt\n",
    "import seaborn as sns\n",
    "from wordcloud import WordCloud, STOPWORDS\n",
    "import re, emoji, itertools\n",
    "from sklearn.model_selection import train_test_split "
   ]
  },
  {
   "cell_type": "code",
   "execution_count": 32,
   "metadata": {},
   "outputs": [],
   "source": [
    "import pandas as pd\n",
    "import numpy as np\n",
    "from nltk.tokenize import word_tokenize\n",
    "from nltk import pos_tag\n",
    "from nltk.corpus import stopwords\n",
    "from nltk.stem import WordNetLemmatizer\n",
    "import nltk\n",
    "from sklearn.preprocessing import LabelEncoder\n",
    "from collections import defaultdict\n",
    "from nltk.corpus import wordnet as wn\n",
    "from sklearn.feature_extraction.text import TfidfVectorizer\n",
    "from sklearn import model_selection, naive_bayes, svm\n",
    "from sklearn.metrics import accuracy_score"
   ]
  },
  {
   "cell_type": "code",
   "execution_count": 33,
   "metadata": {},
   "outputs": [
    {
     "name": "stderr",
     "output_type": "stream",
     "text": [
      "[nltk_data] Downloading package wordnet to\n",
      "[nltk_data]     C:\\Users\\Admin\\AppData\\Roaming\\nltk_data...\n",
      "[nltk_data]   Package wordnet is already up-to-date!\n",
      "[nltk_data] Downloading package omw-1.4 to\n",
      "[nltk_data]     C:\\Users\\Admin\\AppData\\Roaming\\nltk_data...\n",
      "[nltk_data]   Package omw-1.4 is already up-to-date!\n",
      "[nltk_data] Downloading package averaged_perceptron_tagger to\n",
      "[nltk_data]     C:\\Users\\Admin\\AppData\\Roaming\\nltk_data...\n",
      "[nltk_data]   Package averaged_perceptron_tagger is already up-to-\n",
      "[nltk_data]       date!\n"
     ]
    },
    {
     "data": {
      "text/plain": [
       "True"
      ]
     },
     "execution_count": 33,
     "metadata": {},
     "output_type": "execute_result"
    }
   ],
   "source": [
    "nltk.download('wordnet')\n",
    "nltk.download('omw-1.4')\n",
    "nltk.download('averaged_perceptron_tagger')"
   ]
  },
  {
   "cell_type": "code",
   "execution_count": 34,
   "metadata": {},
   "outputs": [],
   "source": [
    "TRAIN_DATA_PATH = r\"..\\data\\train.csv\"\n",
    "TEST_DATA_PATH = r\"..\\data\\test.csv\""
   ]
  },
  {
   "cell_type": "code",
   "execution_count": 35,
   "metadata": {},
   "outputs": [],
   "source": [
    "df_train = pd.read_csv(TRAIN_DATA_PATH)\n",
    "df_test = pd.read_csv(TEST_DATA_PATH)"
   ]
  },
  {
   "cell_type": "code",
   "execution_count": 36,
   "metadata": {},
   "outputs": [],
   "source": [
    "contractions = { \n",
    "\"ain't\": \"am not\",\n",
    "\"aren't\": \"are not\",\n",
    "\"can't\": \"cannot\",\n",
    "\"can't've\": \"cannot have\",\n",
    "\"'cause\": \"because\",\n",
    "\"could've\": \"could have\",\n",
    "\"couldn't\": \"could not\",\n",
    "\"couldn't've\": \"could not have\",\n",
    "\"didn't\": \"did not\",\n",
    "\"doesn't\": \"does not\",\n",
    "\"don't\": \"do not\",\n",
    "\"hadn't\": \"had not\",\n",
    "\"hadn't've\": \"had not have\",\n",
    "\"hasn't\": \"has not\",\n",
    "\"haven't\": \"have not\",\n",
    "\"he'd\": \"he would\",\n",
    "\"he'd've\": \"he would have\",\n",
    "\"he'll\": \"he will\",\n",
    "\"he's\": \"he is\",\n",
    "\"how'd\": \"how did\",\n",
    "\"how'll\": \"how will\",\n",
    "\"how's\": \"how is\",\n",
    "\"i'd\": \"i would\",\n",
    "\"i'll\": \"i will\",\n",
    "\"i'm\": \"i am\",\n",
    "\"i've\": \"i have\",\n",
    "\"isn't\": \"is not\",\n",
    "\"it'd\": \"it would\",\n",
    "\"it'll\": \"it will\",\n",
    "\"it's\": \"it is\",\n",
    "\"let's\": \"let us\",\n",
    "\"ma'am\": \"madam\",\n",
    "\"mayn't\": \"may not\",\n",
    "\"might've\": \"might have\",\n",
    "\"mightn't\": \"might not\",\n",
    "\"must've\": \"must have\",\n",
    "\"mustn't\": \"must not\",\n",
    "\"needn't\": \"need not\",\n",
    "\"oughtn't\": \"ought not\",\n",
    "\"shan't\": \"shall not\",\n",
    "\"sha'n't\": \"shall not\",\n",
    "\"she'd\": \"she would\",\n",
    "\"she'll\": \"she will\",\n",
    "\"she's\": \"she is\",\n",
    "\"should've\": \"should have\",\n",
    "\"shouldn't\": \"should not\",\n",
    "\"that'd\": \"that would\",\n",
    "\"that's\": \"that is\",\n",
    "\"there'd\": \"there had\",\n",
    "\"there's\": \"there is\",\n",
    "\"they'd\": \"they would\",\n",
    "\"they'll\": \"they will\",\n",
    "\"they're\": \"they are\",\n",
    "\"they've\": \"they have\",\n",
    "\"wasn't\": \"was not\",\n",
    "\"we'd\": \"we would\",\n",
    "\"we'll\": \"we will\",\n",
    "\"we're\": \"we are\",\n",
    "\"we've\": \"we have\",\n",
    "\"weren't\": \"were not\",\n",
    "\"what'll\": \"what will\",\n",
    "\"what're\": \"what are\",\n",
    "\"what's\": \"what is\",\n",
    "\"what've\": \"what have\",\n",
    "\"where'd\": \"where did\",\n",
    "\"where's\": \"where is\",\n",
    "\"who'll\": \"who will\",\n",
    "\"who's\": \"who is\",\n",
    "\"won't\": \"will not\",\n",
    "\"wouldn't\": \"would not\",\n",
    "\"you'd\": \"you would\",\n",
    "\"you'll\": \"you will\",\n",
    "\"you're\": \"you are\",\n",
    "\"thx\"   : \"thanks\"\n",
    "}"
   ]
  },
  {
   "cell_type": "code",
   "execution_count": 37,
   "metadata": {},
   "outputs": [],
   "source": [
    "def remove_contractions(text):\n",
    "    return contractions[text.lower()] if text.lower() in contractions.keys() else text"
   ]
  },
  {
   "cell_type": "code",
   "execution_count": 38,
   "metadata": {},
   "outputs": [],
   "source": [
    "df_train['text']=df_train['text'].apply(remove_contractions)\n",
    "df_test['text']=df_test['text'].apply(remove_contractions)"
   ]
  },
  {
   "cell_type": "code",
   "execution_count": 39,
   "metadata": {},
   "outputs": [],
   "source": [
    "# Step - a : Remove blank rows if any.\n",
    "df_train['text'].dropna(inplace=True)\n",
    "# Step - b : Change all the text to lower case. This is required as python interprets 'dog' and 'DOG' differently\n",
    "df_train['text'] = [entry.lower() for entry in df_train['text']]\n",
    "# Step - c : Tokenization : In this each entry in the corpus will be broken into set of words\n",
    "df_train['text']= [word_tokenize(entry) for entry in df_train['text']]\n",
    "# Step - d : Remove Stop words, Non-Numeric and perfom Word Stemming/Lemmenting.\n",
    "# WordNetLemmatizer requires Pos tags to understand if the word is noun or verb or adjective etc. By default it is set to Noun\n",
    "tag_map = defaultdict(lambda : wn.NOUN)\n",
    "tag_map['J'] = wn.ADJ\n",
    "tag_map['V'] = wn.VERB\n",
    "tag_map['R'] = wn.ADV\n",
    "for index,entry in enumerate(df_train['text']):\n",
    "    # Declaring Empty List to store the words that follow the rules for this step\n",
    "    Final_words = []\n",
    "    # Initializing WordNetLemmatizer()\n",
    "    word_Lemmatized = WordNetLemmatizer()\n",
    "    # pos_tag function below will provide the 'tag' i.e if the word is Noun(N) or Verb(V) or something else.\n",
    "    for word, tag in pos_tag(entry):\n",
    "        # Below condition is to check for Stop words and consider only alphabets\n",
    "        if word not in stopwords.words('english') and word.isalpha():\n",
    "            word_Final = word_Lemmatized.lemmatize(word,tag_map[tag[0]])\n",
    "            Final_words.append(word_Final)\n",
    "    # The final processed set of words for each iteration will be stored in 'text_final'\n",
    "    df_train.loc[index,'text_final'] = str(Final_words)"
   ]
  },
  {
   "cell_type": "code",
   "execution_count": 40,
   "metadata": {},
   "outputs": [
    {
     "data": {
      "text/html": [
       "<div>\n",
       "<style scoped>\n",
       "    .dataframe tbody tr th:only-of-type {\n",
       "        vertical-align: middle;\n",
       "    }\n",
       "\n",
       "    .dataframe tbody tr th {\n",
       "        vertical-align: top;\n",
       "    }\n",
       "\n",
       "    .dataframe thead th {\n",
       "        text-align: right;\n",
       "    }\n",
       "</style>\n",
       "<table border=\"1\" class=\"dataframe\">\n",
       "  <thead>\n",
       "    <tr style=\"text-align: right;\">\n",
       "      <th></th>\n",
       "      <th>id</th>\n",
       "      <th>keyword</th>\n",
       "      <th>location</th>\n",
       "      <th>text</th>\n",
       "      <th>target</th>\n",
       "      <th>text_final</th>\n",
       "    </tr>\n",
       "  </thead>\n",
       "  <tbody>\n",
       "    <tr>\n",
       "      <th>0</th>\n",
       "      <td>1</td>\n",
       "      <td>NaN</td>\n",
       "      <td>NaN</td>\n",
       "      <td>[our, deeds, are, the, reason, of, this, #, ea...</td>\n",
       "      <td>1</td>\n",
       "      <td>['deed', 'reason', 'earthquake', 'may', 'allah...</td>\n",
       "    </tr>\n",
       "    <tr>\n",
       "      <th>1</th>\n",
       "      <td>4</td>\n",
       "      <td>NaN</td>\n",
       "      <td>NaN</td>\n",
       "      <td>[forest, fire, near, la, ronge, sask, ., canada]</td>\n",
       "      <td>1</td>\n",
       "      <td>['forest', 'fire', 'near', 'la', 'ronge', 'sas...</td>\n",
       "    </tr>\n",
       "    <tr>\n",
       "      <th>2</th>\n",
       "      <td>5</td>\n",
       "      <td>NaN</td>\n",
       "      <td>NaN</td>\n",
       "      <td>[all, residents, asked, to, 'shelter, in, plac...</td>\n",
       "      <td>1</td>\n",
       "      <td>['resident', 'ask', 'place', 'notify', 'office...</td>\n",
       "    </tr>\n",
       "    <tr>\n",
       "      <th>3</th>\n",
       "      <td>6</td>\n",
       "      <td>NaN</td>\n",
       "      <td>NaN</td>\n",
       "      <td>[13,000, people, receive, #, wildfires, evacua...</td>\n",
       "      <td>1</td>\n",
       "      <td>['people', 'receive', 'wildfire', 'evacuation'...</td>\n",
       "    </tr>\n",
       "    <tr>\n",
       "      <th>4</th>\n",
       "      <td>7</td>\n",
       "      <td>NaN</td>\n",
       "      <td>NaN</td>\n",
       "      <td>[just, got, sent, this, photo, from, ruby, #, ...</td>\n",
       "      <td>1</td>\n",
       "      <td>['get', 'send', 'photo', 'ruby', 'alaska', 'sm...</td>\n",
       "    </tr>\n",
       "    <tr>\n",
       "      <th>...</th>\n",
       "      <td>...</td>\n",
       "      <td>...</td>\n",
       "      <td>...</td>\n",
       "      <td>...</td>\n",
       "      <td>...</td>\n",
       "      <td>...</td>\n",
       "    </tr>\n",
       "    <tr>\n",
       "      <th>7608</th>\n",
       "      <td>10869</td>\n",
       "      <td>NaN</td>\n",
       "      <td>NaN</td>\n",
       "      <td>[two, giant, cranes, holding, a, bridge, colla...</td>\n",
       "      <td>1</td>\n",
       "      <td>['two', 'giant', 'crane', 'hold', 'bridge', 'c...</td>\n",
       "    </tr>\n",
       "    <tr>\n",
       "      <th>7609</th>\n",
       "      <td>10870</td>\n",
       "      <td>NaN</td>\n",
       "      <td>NaN</td>\n",
       "      <td>[@, aria_ahrary, @, thetawniest, the, out, of,...</td>\n",
       "      <td>1</td>\n",
       "      <td>['thetawniest', 'control', 'wild', 'fire', 'ca...</td>\n",
       "    </tr>\n",
       "    <tr>\n",
       "      <th>7610</th>\n",
       "      <td>10871</td>\n",
       "      <td>NaN</td>\n",
       "      <td>NaN</td>\n",
       "      <td>[m1.94, [, 01:04, utc, ], ?, 5km, s, of, volca...</td>\n",
       "      <td>1</td>\n",
       "      <td>['utc', 'volcano', 'hawaii', 'http']</td>\n",
       "    </tr>\n",
       "    <tr>\n",
       "      <th>7611</th>\n",
       "      <td>10872</td>\n",
       "      <td>NaN</td>\n",
       "      <td>NaN</td>\n",
       "      <td>[police, investigating, after, an, e-bike, col...</td>\n",
       "      <td>1</td>\n",
       "      <td>['police', 'investigate', 'collided', 'car', '...</td>\n",
       "    </tr>\n",
       "    <tr>\n",
       "      <th>7612</th>\n",
       "      <td>10873</td>\n",
       "      <td>NaN</td>\n",
       "      <td>NaN</td>\n",
       "      <td>[the, latest, :, more, homes, razed, by, north...</td>\n",
       "      <td>1</td>\n",
       "      <td>['late', 'home', 'raze', 'northern', 'californ...</td>\n",
       "    </tr>\n",
       "  </tbody>\n",
       "</table>\n",
       "<p>7613 rows × 6 columns</p>\n",
       "</div>"
      ],
      "text/plain": [
       "         id keyword location  \\\n",
       "0         1     NaN      NaN   \n",
       "1         4     NaN      NaN   \n",
       "2         5     NaN      NaN   \n",
       "3         6     NaN      NaN   \n",
       "4         7     NaN      NaN   \n",
       "...     ...     ...      ...   \n",
       "7608  10869     NaN      NaN   \n",
       "7609  10870     NaN      NaN   \n",
       "7610  10871     NaN      NaN   \n",
       "7611  10872     NaN      NaN   \n",
       "7612  10873     NaN      NaN   \n",
       "\n",
       "                                                   text  target  \\\n",
       "0     [our, deeds, are, the, reason, of, this, #, ea...       1   \n",
       "1      [forest, fire, near, la, ronge, sask, ., canada]       1   \n",
       "2     [all, residents, asked, to, 'shelter, in, plac...       1   \n",
       "3     [13,000, people, receive, #, wildfires, evacua...       1   \n",
       "4     [just, got, sent, this, photo, from, ruby, #, ...       1   \n",
       "...                                                 ...     ...   \n",
       "7608  [two, giant, cranes, holding, a, bridge, colla...       1   \n",
       "7609  [@, aria_ahrary, @, thetawniest, the, out, of,...       1   \n",
       "7610  [m1.94, [, 01:04, utc, ], ?, 5km, s, of, volca...       1   \n",
       "7611  [police, investigating, after, an, e-bike, col...       1   \n",
       "7612  [the, latest, :, more, homes, razed, by, north...       1   \n",
       "\n",
       "                                             text_final  \n",
       "0     ['deed', 'reason', 'earthquake', 'may', 'allah...  \n",
       "1     ['forest', 'fire', 'near', 'la', 'ronge', 'sas...  \n",
       "2     ['resident', 'ask', 'place', 'notify', 'office...  \n",
       "3     ['people', 'receive', 'wildfire', 'evacuation'...  \n",
       "4     ['get', 'send', 'photo', 'ruby', 'alaska', 'sm...  \n",
       "...                                                 ...  \n",
       "7608  ['two', 'giant', 'crane', 'hold', 'bridge', 'c...  \n",
       "7609  ['thetawniest', 'control', 'wild', 'fire', 'ca...  \n",
       "7610               ['utc', 'volcano', 'hawaii', 'http']  \n",
       "7611  ['police', 'investigate', 'collided', 'car', '...  \n",
       "7612  ['late', 'home', 'raze', 'northern', 'californ...  \n",
       "\n",
       "[7613 rows x 6 columns]"
      ]
     },
     "execution_count": 40,
     "metadata": {},
     "output_type": "execute_result"
    }
   ],
   "source": [
    "df_train"
   ]
  },
  {
   "cell_type": "code",
   "execution_count": 41,
   "metadata": {},
   "outputs": [],
   "source": [
    "X_train, X_test, y_train, y_test = train_test_split(df_train[\"text_final\"],df_train[\"target\"])"
   ]
  },
  {
   "cell_type": "code",
   "execution_count": 42,
   "metadata": {},
   "outputs": [],
   "source": [
    "Encoder = LabelEncoder()\n",
    "Train_Y = Encoder.fit_transform(y_train)\n",
    "Test_Y = Encoder.fit_transform(y_test)"
   ]
  },
  {
   "cell_type": "code",
   "execution_count": 43,
   "metadata": {},
   "outputs": [],
   "source": [
    "Tfidf_vect = TfidfVectorizer(max_features=5000)\n",
    "Tfidf_vect.fit(df_train['text_final'])\n",
    "Train_X_Tfidf = Tfidf_vect.transform(X_train)\n",
    "Test_X_Tfidf = Tfidf_vect.transform(X_test)\n"
   ]
  },
  {
   "cell_type": "code",
   "execution_count": 44,
   "metadata": {},
   "outputs": [],
   "source": [
    "from sklearn import metrics"
   ]
  },
  {
   "cell_type": "markdown",
   "metadata": {},
   "source": [
    "# Naive Bayes"
   ]
  },
  {
   "cell_type": "code",
   "execution_count": 45,
   "metadata": {},
   "outputs": [
    {
     "name": "stdout",
     "output_type": "stream",
     "text": [
      "Naive Bayes Accuracy Score ->  80.35714285714286\n"
     ]
    }
   ],
   "source": [
    "Naive = naive_bayes.MultinomialNB()\n",
    "Naive.fit(Train_X_Tfidf,Train_Y)\n",
    "# predict the labels on validation dataset\n",
    "predictions_NB = Naive.predict(Test_X_Tfidf)\n",
    "# Use accuracy_score function to get the accuracy\n",
    "print(\"Naive Bayes Accuracy Score -> \",accuracy_score(predictions_NB, Test_Y)*100)"
   ]
  },
  {
   "cell_type": "code",
   "execution_count": 46,
   "metadata": {},
   "outputs": [
    {
     "name": "stdout",
     "output_type": "stream",
     "text": [
      "Model test:\n",
      "\t\tPrec: 0.8475609756097561         \n",
      "\t\t Rec: 0.6698795180722892         \n",
      "\t\t F1: 0.7483176312247646         \n",
      "\t\t Acc: 0.8035714285714286\n"
     ]
    },
    {
     "data": {
      "image/png": "[encoded data removed]",
      "text/plain": [
       "<Figure size 360x360 with 1 Axes>"
      ]
     },
     "metadata": {
      "needs_background": "light"
     },
     "output_type": "display_data"
    }
   ],
   "source": [
    "print('Model test:')\n",
    "\n",
    "print(f'\\t\\tPrec: {metrics.precision_score(Test_Y, predictions_NB)} \\\n",
    "        \\n\\t\\t Rec: {metrics.recall_score(Test_Y, predictions_NB)} \\\n",
    "        \\n\\t\\t F1: {metrics.f1_score(Test_Y, predictions_NB)} \\\n",
    "        \\n\\t\\t Acc: {metrics.accuracy_score(Test_Y, predictions_NB)}')\n",
    "\n",
    "# ROC curve\n",
    "fpr, tpr, thresholds = metrics.roc_curve(Test_Y, predictions_NB)\n",
    "roc_auc = metrics.auc(fpr, tpr)\n",
    "plt.figure(figsize=(5, 5))\n",
    "plt.axis('equal')\n",
    "plt.plot(fpr, tpr, lw=2, label=\"AUC = %0.2f\" % roc_auc)\n",
    "plt.plot([0, 1], [0, 1], color=\"gray\", lw=2, linestyle=\"--\")\n",
    "plt.xlim([0.0, 1.0])\n",
    "plt.ylim([0.0, 1.05])\n",
    "plt.xlabel(\"False Positive Rate\")\n",
    "plt.ylabel(\"True Positive Rate\")\n",
    "plt.legend(loc=\"lower right\")\n",
    "plt.show()"
   ]
  },
  {
   "cell_type": "code",
   "execution_count": 47,
   "metadata": {},
   "outputs": [],
   "source": [
    "# Step - a : Remove blank rows if any.\n",
    "df_test['text'].dropna(inplace=True)\n",
    "# Step - b : Change all the text to lower case. This is required as python interprets 'dog' and 'DOG' differently\n",
    "df_test['text'] = [entry.lower() for entry in df_test['text']]\n",
    "# Step - c : Tokenization : In this each entry in the corpus will be broken into set of words\n",
    "df_test['text']= [word_tokenize(entry) for entry in df_test['text']]\n",
    "# Step - d : Remove Stop words, Non-Numeric and perfom Word Stemming/Lemmenting.\n",
    "# WordNetLemmatizer requires Pos tags to understand if the word is noun or verb or adjective etc. By default it is set to Noun\n",
    "tag_map = defaultdict(lambda : wn.NOUN)\n",
    "tag_map['J'] = wn.ADJ\n",
    "tag_map['V'] = wn.VERB\n",
    "tag_map['R'] = wn.ADV\n",
    "for index,entry in enumerate(df_test['text']):\n",
    "    # Declaring Empty List to store the words that follow the rules for this step\n",
    "    Final_words = []\n",
    "    # Initializing WordNetLemmatizer()\n",
    "    word_Lemmatized = WordNetLemmatizer()\n",
    "    # pos_tag function below will provide the 'tag' i.e if the word is Noun(N) or Verb(V) or something else.\n",
    "    for word, tag in pos_tag(entry):\n",
    "        # Below condition is to check for Stop words and consider only alphabets\n",
    "        if word not in stopwords.words('english') and word.isalpha():\n",
    "            word_Final = word_Lemmatized.lemmatize(word,tag_map[tag[0]])\n",
    "            Final_words.append(word_Final)\n",
    "    # The final processed set of words for each iteration will be stored in 'text_final'\n",
    "    df_test.loc[index,'text_final'] = str(Final_words)"
   ]
  },
  {
   "cell_type": "code",
   "execution_count": 48,
   "metadata": {},
   "outputs": [
    {
     "data": {
      "text/plain": [
       "(3263, 5)"
      ]
     },
     "execution_count": 48,
     "metadata": {},
     "output_type": "execute_result"
    }
   ],
   "source": [
    "df_test.shape"
   ]
  },
  {
   "cell_type": "code",
   "execution_count": 49,
   "metadata": {},
   "outputs": [],
   "source": [
    "Test_X_Tfidf_subm = Tfidf_vect.transform(df_test['text_final'])"
   ]
  },
  {
   "cell_type": "code",
   "execution_count": 50,
   "metadata": {},
   "outputs": [
    {
     "data": {
      "text/plain": [
       "<3263x5000 sparse matrix of type '<class 'numpy.float64'>'\n",
       "\twith 24032 stored elements in Compressed Sparse Row format>"
      ]
     },
     "execution_count": 50,
     "metadata": {},
     "output_type": "execute_result"
    }
   ],
   "source": [
    "Test_X_Tfidf_subm"
   ]
  },
  {
   "cell_type": "code",
   "execution_count": 51,
   "metadata": {},
   "outputs": [],
   "source": [
    "submission_NB = Naive.predict(Test_X_Tfidf_subm)\n",
    "submission_NB = pd.DataFrame(submission_NB)\n",
    "tmp = pd.concat([df_test,submission_NB],axis = 1 )\n",
    "tmp = tmp.drop([\"text\",\"keyword\",\"location\",\"text_final\"],axis = 1)\n",
    "tmp.columns = ['id', \"target\"]\n",
    "tmp.to_csv(\"submissionNB.csv\",index = False)\n"
   ]
  },
  {
   "cell_type": "code",
   "execution_count": 52,
   "metadata": {},
   "outputs": [
    {
     "data": {
      "text/plain": [
       "3263"
      ]
     },
     "execution_count": 52,
     "metadata": {},
     "output_type": "execute_result"
    }
   ],
   "source": [
    "submission_NB.size"
   ]
  },
  {
   "cell_type": "markdown",
   "metadata": {},
   "source": [
    "# SVM"
   ]
  },
  {
   "cell_type": "code",
   "execution_count": 53,
   "metadata": {},
   "outputs": [
    {
     "name": "stdout",
     "output_type": "stream",
     "text": [
      "SVM Accuracy Score ->  80.9873949579832\n"
     ]
    }
   ],
   "source": [
    "# Classifier - Algorithm - SVM\n",
    "# fit the training dataset on the classifier\n",
    "# SVM = svm.SVC(C=1.0, degree=3, gamma='auto')\n",
    "SVM = svm.SVC()\n",
    "SVM.fit(Train_X_Tfidf,Train_Y)\n",
    "# predict the labels on validation dataset\n",
    "predictions_SVM = SVM.predict(Test_X_Tfidf)\n",
    "# Use accuracy_score function to get the accuracy\n",
    "print(\"SVM Accuracy Score -> \",accuracy_score(predictions_SVM, Test_Y)*100)"
   ]
  },
  {
   "cell_type": "code",
   "execution_count": 54,
   "metadata": {},
   "outputs": [
    {
     "name": "stdout",
     "output_type": "stream",
     "text": [
      "Model test:\n",
      "\t\tPrec: 0.8726114649681529         \n",
      "\t\t Rec: 0.6602409638554216         \n",
      "\t\t F1: 0.7517146776406035         \n",
      "\t\t Acc: 0.8098739495798319         \n",
      "\t\t ROC_AUC: 0.7928765340692379\n"
     ]
    },
    {
     "data": {
      "image/png": "[encoded data removed]",
      "text/plain": [
       "<Figure size 360x360 with 1 Axes>"
      ]
     },
     "metadata": {
      "needs_background": "light"
     },
     "output_type": "display_data"
    }
   ],
   "source": [
    "print('Model test:')\n",
    "\n",
    "print(f'\\t\\tPrec: {metrics.precision_score(Test_Y, predictions_SVM)} \\\n",
    "        \\n\\t\\t Rec: {metrics.recall_score(Test_Y, predictions_SVM)} \\\n",
    "        \\n\\t\\t F1: {metrics.f1_score(Test_Y, predictions_SVM)} \\\n",
    "        \\n\\t\\t Acc: {metrics.accuracy_score(Test_Y, predictions_SVM)} \\\n",
    "        \\n\\t\\t ROC_AUC: {metrics.roc_auc_score(Test_Y, predictions_SVM)}')\n",
    "\n",
    "# ROC curve\n",
    "fpr, tpr, thresholds = metrics.roc_curve(Test_Y, predictions_SVM)\n",
    "roc_auc = metrics.auc(fpr, tpr)\n",
    "plt.figure(figsize=(5, 5))\n",
    "plt.axis('equal')\n",
    "plt.plot(fpr, tpr, lw=2, label=\"AUC = %0.2f\" % roc_auc)\n",
    "plt.plot([0, 1], [0, 1], color=\"gray\", lw=2, linestyle=\"--\")\n",
    "plt.xlim([0.0, 1.0])\n",
    "plt.ylim([0.0, 1.05])\n",
    "plt.xlabel(\"False Positive Rate\")\n",
    "plt.ylabel(\"True Positive Rate\")\n",
    "plt.legend(loc=\"lower right\")\n",
    "plt.show()"
   ]
  },
  {
   "cell_type": "code",
   "execution_count": 55,
   "metadata": {},
   "outputs": [],
   "source": [
    "submission_SVM = SVM.predict(Test_X_Tfidf_subm)\n",
    "submission_SVM = pd.DataFrame(submission_SVM)\n",
    "tmp = pd.concat([df_test,submission_NB],axis = 1 )\n",
    "tmp = tmp.drop([\"text\",\"keyword\",\"location\",\"text_final\"],axis = 1)\n",
    "tmp.columns = ['id', \"target\"]\n",
    "tmp.to_csv(\"submissionSVM.csv\",index = False)"
   ]
  },
  {
   "cell_type": "markdown",
   "metadata": {},
   "source": [
    "## Grid Search"
   ]
  },
  {
   "cell_type": "code",
   "execution_count": 56,
   "metadata": {},
   "outputs": [
    {
     "name": "stdout",
     "output_type": "stream",
     "text": [
      "Fitting 5 folds for each of 24 candidates, totalling 120 fits\n",
      "[CV 1/5] END ....C=0.1, gamma=10, kernel=linear;, score=0.700 total time=   2.5s\n",
      "[CV 2/5] END ....C=0.1, gamma=10, kernel=linear;, score=0.696 total time=   2.5s\n",
      "[CV 3/5] END ....C=0.1, gamma=10, kernel=linear;, score=0.700 total time=   2.3s\n",
      "[CV 4/5] END ....C=0.1, gamma=10, kernel=linear;, score=0.712 total time=   2.2s\n",
      "[CV 5/5] END ....C=0.1, gamma=10, kernel=linear;, score=0.706 total time=   2.1s\n",
      "[CV 1/5] END .......C=0.1, gamma=10, kernel=rbf;, score=0.582 total time=   2.5s\n",
      "[CV 2/5] END .......C=0.1, gamma=10, kernel=rbf;, score=0.580 total time=   2.6s\n",
      "[CV 3/5] END .......C=0.1, gamma=10, kernel=rbf;, score=0.583 total time=   2.7s\n",
      "[CV 4/5] END .......C=0.1, gamma=10, kernel=rbf;, score=0.578 total time=   2.7s\n",
      "[CV 5/5] END .......C=0.1, gamma=10, kernel=rbf;, score=0.582 total time=   2.5s\n",
      "[CV 1/5] END .....C=0.1, gamma=1, kernel=linear;, score=0.700 total time=   2.4s\n",
      "[CV 2/5] END .....C=0.1, gamma=1, kernel=linear;, score=0.696 total time=   2.1s\n",
      "[CV 3/5] END .....C=0.1, gamma=1, kernel=linear;, score=0.700 total time=   2.3s\n",
      "[CV 4/5] END .....C=0.1, gamma=1, kernel=linear;, score=0.712 total time=   2.2s\n",
      "[CV 5/5] END .....C=0.1, gamma=1, kernel=linear;, score=0.706 total time=   2.2s\n",
      "[CV 1/5] END ........C=0.1, gamma=1, kernel=rbf;, score=0.588 total time=   2.5s\n",
      "[CV 2/5] END ........C=0.1, gamma=1, kernel=rbf;, score=0.596 total time=   2.5s\n",
      "[CV 3/5] END ........C=0.1, gamma=1, kernel=rbf;, score=0.597 total time=   2.5s\n",
      "[CV 4/5] END ........C=0.1, gamma=1, kernel=rbf;, score=0.597 total time=   2.5s\n",
      "[CV 5/5] END ........C=0.1, gamma=1, kernel=rbf;, score=0.598 total time=   2.5s\n",
      "[CV 1/5] END ..C=0.1, gamma=0.01, kernel=linear;, score=0.700 total time=   2.2s\n",
      "[CV 2/5] END ..C=0.1, gamma=0.01, kernel=linear;, score=0.696 total time=   2.2s\n",
      "[CV 3/5] END ..C=0.1, gamma=0.01, kernel=linear;, score=0.700 total time=   2.2s\n",
      "[CV 4/5] END ..C=0.1, gamma=0.01, kernel=linear;, score=0.712 total time=   2.1s\n",
      "[CV 5/5] END ..C=0.1, gamma=0.01, kernel=linear;, score=0.706 total time=   2.1s\n",
      "[CV 1/5] END .....C=0.1, gamma=0.01, kernel=rbf;, score=0.573 total time=   2.3s\n",
      "[CV 2/5] END .....C=0.1, gamma=0.01, kernel=rbf;, score=0.573 total time=   2.3s\n",
      "[CV 3/5] END .....C=0.1, gamma=0.01, kernel=rbf;, score=0.573 total time=   2.3s\n",
      "[CV 4/5] END .....C=0.1, gamma=0.01, kernel=rbf;, score=0.572 total time=   2.3s\n",
      "[CV 5/5] END .....C=0.1, gamma=0.01, kernel=rbf;, score=0.572 total time=   2.6s\n",
      "[CV 1/5] END C=0.1, gamma=0.0001, kernel=linear;, score=0.700 total time=   2.3s\n",
      "[CV 2/5] END C=0.1, gamma=0.0001, kernel=linear;, score=0.696 total time=   2.5s\n",
      "[CV 3/5] END C=0.1, gamma=0.0001, kernel=linear;, score=0.700 total time=   3.0s\n",
      "[CV 4/5] END C=0.1, gamma=0.0001, kernel=linear;, score=0.712 total time=   2.4s\n",
      "[CV 5/5] END C=0.1, gamma=0.0001, kernel=linear;, score=0.706 total time=   2.3s\n",
      "[CV 1/5] END ...C=0.1, gamma=0.0001, kernel=rbf;, score=0.573 total time=   2.3s\n",
      "[CV 2/5] END ...C=0.1, gamma=0.0001, kernel=rbf;, score=0.573 total time=   2.3s\n",
      "[CV 3/5] END ...C=0.1, gamma=0.0001, kernel=rbf;, score=0.573 total time=   2.3s\n",
      "[CV 4/5] END ...C=0.1, gamma=0.0001, kernel=rbf;, score=0.572 total time=   2.3s\n",
      "[CV 5/5] END ...C=0.1, gamma=0.0001, kernel=rbf;, score=0.572 total time=   2.3s\n",
      "[CV 1/5] END ......C=1, gamma=10, kernel=linear;, score=0.792 total time=   1.8s\n",
      "[CV 2/5] END ......C=1, gamma=10, kernel=linear;, score=0.792 total time=   1.9s\n",
      "[CV 3/5] END ......C=1, gamma=10, kernel=linear;, score=0.806 total time=   1.8s\n",
      "[CV 4/5] END ......C=1, gamma=10, kernel=linear;, score=0.781 total time=   1.8s\n",
      "[CV 5/5] END ......C=1, gamma=10, kernel=linear;, score=0.783 total time=   1.9s\n",
      "[CV 1/5] END .........C=1, gamma=10, kernel=rbf;, score=0.647 total time=   2.9s\n",
      "[CV 2/5] END .........C=1, gamma=10, kernel=rbf;, score=0.641 total time=   2.7s\n",
      "[CV 3/5] END .........C=1, gamma=10, kernel=rbf;, score=0.657 total time=   2.7s\n",
      "[CV 4/5] END .........C=1, gamma=10, kernel=rbf;, score=0.634 total time=   2.9s\n",
      "[CV 5/5] END .........C=1, gamma=10, kernel=rbf;, score=0.649 total time=   2.9s\n",
      "[CV 1/5] END .......C=1, gamma=1, kernel=linear;, score=0.792 total time=   2.0s\n",
      "[CV 2/5] END .......C=1, gamma=1, kernel=linear;, score=0.792 total time=   1.8s\n",
      "[CV 3/5] END .......C=1, gamma=1, kernel=linear;, score=0.806 total time=   1.8s\n",
      "[CV 4/5] END .......C=1, gamma=1, kernel=linear;, score=0.781 total time=   1.9s\n",
      "[CV 5/5] END .......C=1, gamma=1, kernel=linear;, score=0.783 total time=   2.0s\n",
      "[CV 1/5] END ..........C=1, gamma=1, kernel=rbf;, score=0.799 total time=   3.0s\n",
      "[CV 2/5] END ..........C=1, gamma=1, kernel=rbf;, score=0.789 total time=   2.4s\n",
      "[CV 3/5] END ..........C=1, gamma=1, kernel=rbf;, score=0.814 total time=   2.4s\n",
      "[CV 4/5] END ..........C=1, gamma=1, kernel=rbf;, score=0.782 total time=   2.4s\n",
      "[CV 5/5] END ..........C=1, gamma=1, kernel=rbf;, score=0.785 total time=   2.4s\n",
      "[CV 1/5] END ....C=1, gamma=0.01, kernel=linear;, score=0.792 total time=   1.7s\n",
      "[CV 2/5] END ....C=1, gamma=0.01, kernel=linear;, score=0.792 total time=   1.7s\n",
      "[CV 3/5] END ....C=1, gamma=0.01, kernel=linear;, score=0.806 total time=   1.8s\n",
      "[CV 4/5] END ....C=1, gamma=0.01, kernel=linear;, score=0.781 total time=   1.7s\n",
      "[CV 5/5] END ....C=1, gamma=0.01, kernel=linear;, score=0.783 total time=   1.7s\n",
      "[CV 1/5] END .......C=1, gamma=0.01, kernel=rbf;, score=0.573 total time=   2.4s\n",
      "[CV 2/5] END .......C=1, gamma=0.01, kernel=rbf;, score=0.573 total time=   2.3s\n",
      "[CV 3/5] END .......C=1, gamma=0.01, kernel=rbf;, score=0.573 total time=   2.4s\n",
      "[CV 4/5] END .......C=1, gamma=0.01, kernel=rbf;, score=0.572 total time=   2.3s\n",
      "[CV 5/5] END .......C=1, gamma=0.01, kernel=rbf;, score=0.572 total time=   2.3s\n",
      "[CV 1/5] END ..C=1, gamma=0.0001, kernel=linear;, score=0.792 total time=   1.7s\n",
      "[CV 2/5] END ..C=1, gamma=0.0001, kernel=linear;, score=0.792 total time=   1.7s\n",
      "[CV 3/5] END ..C=1, gamma=0.0001, kernel=linear;, score=0.806 total time=   1.7s\n",
      "[CV 4/5] END ..C=1, gamma=0.0001, kernel=linear;, score=0.781 total time=   1.7s\n",
      "[CV 5/5] END ..C=1, gamma=0.0001, kernel=linear;, score=0.783 total time=   1.7s\n",
      "[CV 1/5] END .....C=1, gamma=0.0001, kernel=rbf;, score=0.573 total time=   2.1s\n",
      "[CV 2/5] END .....C=1, gamma=0.0001, kernel=rbf;, score=0.573 total time=   2.2s\n",
      "[CV 3/5] END .....C=1, gamma=0.0001, kernel=rbf;, score=0.573 total time=   2.2s\n",
      "[CV 4/5] END .....C=1, gamma=0.0001, kernel=rbf;, score=0.572 total time=   2.1s\n",
      "[CV 5/5] END .....C=1, gamma=0.0001, kernel=rbf;, score=0.572 total time=   2.6s\n",
      "[CV 1/5] END ...C=1000, gamma=10, kernel=linear;, score=0.707 total time=   2.7s\n",
      "[CV 2/5] END ...C=1000, gamma=10, kernel=linear;, score=0.721 total time=   2.8s\n",
      "[CV 3/5] END ...C=1000, gamma=10, kernel=linear;, score=0.691 total time=   2.7s\n",
      "[CV 4/5] END ...C=1000, gamma=10, kernel=linear;, score=0.729 total time=   2.6s\n",
      "[CV 5/5] END ...C=1000, gamma=10, kernel=linear;, score=0.709 total time=   3.2s\n",
      "[CV 1/5] END ......C=1000, gamma=10, kernel=rbf;, score=0.647 total time=   2.3s\n",
      "[CV 2/5] END ......C=1000, gamma=10, kernel=rbf;, score=0.650 total time=   2.3s\n",
      "[CV 3/5] END ......C=1000, gamma=10, kernel=rbf;, score=0.665 total time=   2.3s\n",
      "[CV 4/5] END ......C=1000, gamma=10, kernel=rbf;, score=0.639 total time=   2.3s\n",
      "[CV 5/5] END ......C=1000, gamma=10, kernel=rbf;, score=0.656 total time=   2.4s\n",
      "[CV 1/5] END ....C=1000, gamma=1, kernel=linear;, score=0.707 total time=   2.6s\n",
      "[CV 2/5] END ....C=1000, gamma=1, kernel=linear;, score=0.721 total time=   2.4s\n",
      "[CV 3/5] END ....C=1000, gamma=1, kernel=linear;, score=0.691 total time=   2.6s\n",
      "[CV 4/5] END ....C=1000, gamma=1, kernel=linear;, score=0.729 total time=   2.1s\n",
      "[CV 5/5] END ....C=1000, gamma=1, kernel=linear;, score=0.709 total time=   2.4s\n",
      "[CV 1/5] END .......C=1000, gamma=1, kernel=rbf;, score=0.782 total time=   2.1s\n",
      "[CV 2/5] END .......C=1000, gamma=1, kernel=rbf;, score=0.774 total time=   2.3s\n",
      "[CV 3/5] END .......C=1000, gamma=1, kernel=rbf;, score=0.794 total time=   2.1s\n",
      "[CV 4/5] END .......C=1000, gamma=1, kernel=rbf;, score=0.782 total time=   2.0s\n",
      "[CV 5/5] END .......C=1000, gamma=1, kernel=rbf;, score=0.779 total time=   2.1s\n",
      "[CV 1/5] END .C=1000, gamma=0.01, kernel=linear;, score=0.707 total time=   2.3s\n",
      "[CV 2/5] END .C=1000, gamma=0.01, kernel=linear;, score=0.721 total time=   2.2s\n",
      "[CV 3/5] END .C=1000, gamma=0.01, kernel=linear;, score=0.691 total time=   2.2s\n",
      "[CV 4/5] END .C=1000, gamma=0.01, kernel=linear;, score=0.729 total time=   2.1s\n",
      "[CV 5/5] END .C=1000, gamma=0.01, kernel=linear;, score=0.709 total time=   2.5s\n",
      "[CV 1/5] END ....C=1000, gamma=0.01, kernel=rbf;, score=0.733 total time=   2.0s\n",
      "[CV 2/5] END ....C=1000, gamma=0.01, kernel=rbf;, score=0.729 total time=   2.3s\n",
      "[CV 3/5] END ....C=1000, gamma=0.01, kernel=rbf;, score=0.724 total time=   1.9s\n",
      "[CV 4/5] END ....C=1000, gamma=0.01, kernel=rbf;, score=0.728 total time=   1.9s\n",
      "[CV 5/5] END ....C=1000, gamma=0.01, kernel=rbf;, score=0.741 total time=   2.0s\n",
      "[CV 1/5] END C=1000, gamma=0.0001, kernel=linear;, score=0.707 total time=   2.2s\n",
      "[CV 2/5] END C=1000, gamma=0.0001, kernel=linear;, score=0.721 total time=   2.2s\n",
      "[CV 3/5] END C=1000, gamma=0.0001, kernel=linear;, score=0.691 total time=   2.1s\n",
      "[CV 4/5] END C=1000, gamma=0.0001, kernel=linear;, score=0.729 total time=   2.0s\n",
      "[CV 5/5] END C=1000, gamma=0.0001, kernel=linear;, score=0.709 total time=   2.4s\n",
      "[CV 1/5] END ..C=1000, gamma=0.0001, kernel=rbf;, score=0.782 total time=   1.7s\n",
      "[CV 2/5] END ..C=1000, gamma=0.0001, kernel=rbf;, score=0.764 total time=   1.7s\n",
      "[CV 3/5] END ..C=1000, gamma=0.0001, kernel=rbf;, score=0.777 total time=   1.8s\n",
      "[CV 4/5] END ..C=1000, gamma=0.0001, kernel=rbf;, score=0.770 total time=   1.7s\n",
      "[CV 5/5] END ..C=1000, gamma=0.0001, kernel=rbf;, score=0.774 total time=   1.8s\n"
     ]
    },
    {
     "data": {
      "text/html": [
       "<style>#sk-container-id-2 {color: black;background-color: white;}#sk-container-id-2 pre{padding: 0;}#sk-container-id-2 div.sk-toggleable {background-color: white;}#sk-container-id-2 label.sk-toggleable__label {cursor: pointer;display: block;width: 100%;margin-bottom: 0;padding: 0.3em;box-sizing: border-box;text-align: center;}#sk-container-id-2 label.sk-toggleable__label-arrow:before {content: \"▸\";float: left;margin-right: 0.25em;color: #696969;}#sk-container-id-2 label.sk-toggleable__label-arrow:hover:before {color: black;}#sk-container-id-2 div.sk-estimator:hover label.sk-toggleable__label-arrow:before {color: black;}#sk-container-id-2 div.sk-toggleable__content {max-height: 0;max-width: 0;overflow: hidden;text-align: left;background-color: #f0f8ff;}#sk-container-id-2 div.sk-toggleable__content pre {margin: 0.2em;color: black;border-radius: 0.25em;background-color: #f0f8ff;}#sk-container-id-2 input.sk-toggleable__control:checked~div.sk-toggleable__content {max-height: 200px;max-width: 100%;overflow: auto;}#sk-container-id-2 input.sk-toggleable__control:checked~label.sk-toggleable__label-arrow:before {content: \"▾\";}#sk-container-id-2 div.sk-estimator input.sk-toggleable__control:checked~label.sk-toggleable__label {background-color: #d4ebff;}#sk-container-id-2 div.sk-label input.sk-toggleable__control:checked~label.sk-toggleable__label {background-color: #d4ebff;}#sk-container-id-2 input.sk-hidden--visually {border: 0;clip: rect(1px 1px 1px 1px);clip: rect(1px, 1px, 1px, 1px);height: 1px;margin: -1px;overflow: hidden;padding: 0;position: absolute;width: 1px;}#sk-container-id-2 div.sk-estimator {font-family: monospace;background-color: #f0f8ff;border: 1px dotted black;border-radius: 0.25em;box-sizing: border-box;margin-bottom: 0.5em;}#sk-container-id-2 div.sk-estimator:hover {background-color: #d4ebff;}#sk-container-id-2 div.sk-parallel-item::after {content: \"\";width: 100%;border-bottom: 1px solid gray;flex-grow: 1;}#sk-container-id-2 div.sk-label:hover label.sk-toggleable__label {background-color: #d4ebff;}#sk-container-id-2 div.sk-serial::before {content: \"\";position: absolute;border-left: 1px solid gray;box-sizing: border-box;top: 0;bottom: 0;left: 50%;z-index: 0;}#sk-container-id-2 div.sk-serial {display: flex;flex-direction: column;align-items: center;background-color: white;padding-right: 0.2em;padding-left: 0.2em;position: relative;}#sk-container-id-2 div.sk-item {position: relative;z-index: 1;}#sk-container-id-2 div.sk-parallel {display: flex;align-items: stretch;justify-content: center;background-color: white;position: relative;}#sk-container-id-2 div.sk-item::before, #sk-container-id-2 div.sk-parallel-item::before {content: \"\";position: absolute;border-left: 1px solid gray;box-sizing: border-box;top: 0;bottom: 0;left: 50%;z-index: -1;}#sk-container-id-2 div.sk-parallel-item {display: flex;flex-direction: column;z-index: 1;position: relative;background-color: white;}#sk-container-id-2 div.sk-parallel-item:first-child::after {align-self: flex-end;width: 50%;}#sk-container-id-2 div.sk-parallel-item:last-child::after {align-self: flex-start;width: 50%;}#sk-container-id-2 div.sk-parallel-item:only-child::after {width: 0;}#sk-container-id-2 div.sk-dashed-wrapped {border: 1px dashed gray;margin: 0 0.4em 0.5em 0.4em;box-sizing: border-box;padding-bottom: 0.4em;background-color: white;}#sk-container-id-2 div.sk-label label {font-family: monospace;font-weight: bold;display: inline-block;line-height: 1.2em;}#sk-container-id-2 div.sk-label-container {text-align: center;}#sk-container-id-2 div.sk-container {/* jupyter's `normalize.less` sets `[hidden] { display: none; }` but bootstrap.min.css set `[hidden] { display: none !important; }` so we also need the `!important` here to be able to override the default hidden behavior on the sphinx rendered scikit-learn.org. See: https://github.com/scikit-learn/scikit-learn/issues/21755 */display: inline-block !important;position: relative;}#sk-container-id-2 div.sk-text-repr-fallback {display: none;}</style><div id=\"sk-container-id-2\" class=\"sk-top-container\"><div class=\"sk-text-repr-fallback\"><pre>GridSearchCV(estimator=SVC(),\n",
       "             param_grid={&#x27;C&#x27;: [0.1, 1, 1000], &#x27;gamma&#x27;: [10, 1, 0.01, 0.0001],\n",
       "                         &#x27;kernel&#x27;: [&#x27;linear&#x27;, &#x27;rbf&#x27;]},\n",
       "             verbose=3)</pre><b>In a Jupyter environment, please rerun this cell to show the HTML representation or trust the notebook. <br />On GitHub, the HTML representation is unable to render, please try loading this page with nbviewer.org.</b></div><div class=\"sk-container\" hidden><div class=\"sk-item sk-dashed-wrapped\"><div class=\"sk-label-container\"><div class=\"sk-label sk-toggleable\"><input class=\"sk-toggleable__control sk-hidden--visually\" id=\"sk-estimator-id-4\" type=\"checkbox\" ><label for=\"sk-estimator-id-4\" class=\"sk-toggleable__label sk-toggleable__label-arrow\">GridSearchCV</label><div class=\"sk-toggleable__content\"><pre>GridSearchCV(estimator=SVC(),\n",
       "             param_grid={&#x27;C&#x27;: [0.1, 1, 1000], &#x27;gamma&#x27;: [10, 1, 0.01, 0.0001],\n",
       "                         &#x27;kernel&#x27;: [&#x27;linear&#x27;, &#x27;rbf&#x27;]},\n",
       "             verbose=3)</pre></div></div></div><div class=\"sk-parallel\"><div class=\"sk-parallel-item\"><div class=\"sk-item\"><div class=\"sk-label-container\"><div class=\"sk-label sk-toggleable\"><input class=\"sk-toggleable__control sk-hidden--visually\" id=\"sk-estimator-id-5\" type=\"checkbox\" ><label for=\"sk-estimator-id-5\" class=\"sk-toggleable__label sk-toggleable__label-arrow\">estimator: SVC</label><div class=\"sk-toggleable__content\"><pre>SVC()</pre></div></div></div><div class=\"sk-serial\"><div class=\"sk-item\"><div class=\"sk-estimator sk-toggleable\"><input class=\"sk-toggleable__control sk-hidden--visually\" id=\"sk-estimator-id-6\" type=\"checkbox\" ><label for=\"sk-estimator-id-6\" class=\"sk-toggleable__label sk-toggleable__label-arrow\">SVC</label><div class=\"sk-toggleable__content\"><pre>SVC()</pre></div></div></div></div></div></div></div></div></div></div>"
      ],
      "text/plain": [
       "GridSearchCV(estimator=SVC(),\n",
       "             param_grid={'C': [0.1, 1, 1000], 'gamma': [10, 1, 0.01, 0.0001],\n",
       "                         'kernel': ['linear', 'rbf']},\n",
       "             verbose=3)"
      ]
     },
     "execution_count": 56,
     "metadata": {},
     "output_type": "execute_result"
    }
   ],
   "source": [
    "from sklearn.model_selection import GridSearchCV\n",
    " \n",
    "# defining parameter range\n",
    "param_grid = {'C': [0.1, 1 , 1000],\n",
    "              'gamma': [10, 1, .01, .0001],\n",
    "              'kernel': ['linear', 'rbf']}\n",
    " \n",
    "grid = GridSearchCV(SVM, param_grid, refit = True, verbose = 3)\n",
    " \n",
    "# fitting the model for grid search\n",
    "grid.fit(Train_X_Tfidf,Train_Y)"
   ]
  },
  {
   "cell_type": "code",
   "execution_count": 57,
   "metadata": {},
   "outputs": [
    {
     "name": "stdout",
     "output_type": "stream",
     "text": [
      "{'C': 1, 'gamma': 1, 'kernel': 'rbf'}\n",
      "SVC(C=1, gamma=1)\n"
     ]
    }
   ],
   "source": [
    "# print best parameter after tuning\n",
    "print(grid.best_params_)\n",
    " \n",
    "# print how our model looks after hyper-parameter tuning\n",
    "print(grid.best_estimator_)"
   ]
  },
  {
   "cell_type": "code",
   "execution_count": 58,
   "metadata": {},
   "outputs": [
    {
     "name": "stdout",
     "output_type": "stream",
     "text": [
      "              precision    recall  f1-score   support\n",
      "\n",
      "           0       0.78      0.93      0.85      1074\n",
      "           1       0.87      0.66      0.75       830\n",
      "\n",
      "    accuracy                           0.81      1904\n",
      "   macro avg       0.83      0.79      0.80      1904\n",
      "weighted avg       0.82      0.81      0.81      1904\n",
      "\n"
     ]
    }
   ],
   "source": [
    "from sklearn.metrics import classification_report\n",
    "\n",
    "\n",
    "grid_predictions = grid.predict(Test_X_Tfidf)\n",
    " \n",
    "# print classification report\n",
    "print(classification_report(y_test, grid_predictions))"
   ]
  },
  {
   "cell_type": "code",
   "execution_count": 59,
   "metadata": {},
   "outputs": [],
   "source": [
    "submission_SVM = grid.predict(Test_X_Tfidf_subm)\n",
    "submission_SVM = pd.DataFrame(submission_SVM)\n",
    "tmp = pd.concat([df_test,submission_NB],axis = 1 )\n",
    "tmp = tmp.drop([\"text\",\"keyword\",\"location\",\"text_final\"],axis = 1)\n",
    "tmp.columns = ['id', \"target\"]\n",
    "tmp.to_csv(\"submissionGridSVM.csv\",index = False)"
   ]
  }
 ],
 "metadata": {
  "kernelspec": {
   "display_name": "Python 3.9.12 ('tweetenv')",
   "language": "python",
   "name": "python3"
  },
  "language_info": {
   "codemirror_mode": {
    "name": "ipython",
    "version": 3
   },
   "file_extension": ".py",
   "mimetype": "text/x-python",
   "name": "python",
   "nbconvert_exporter": "python",
   "pygments_lexer": "ipython3",
   "version": "3.9.12"
  },
  "orig_nbformat": 4,
  "vscode": {
   "interpreter": {
    "hash": "f3d6789217325fb32e9dd9bf564898f8353dff80472d3500055db523b9b83061"
   }
  }
 },
 "nbformat": 4,
 "nbformat_minor": 2
}
