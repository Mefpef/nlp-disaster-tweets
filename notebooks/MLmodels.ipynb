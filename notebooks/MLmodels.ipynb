{
 "cells": [
  {
   "cell_type": "markdown",
   "metadata": {},
   "source": [
    "## Name of file"
   ]
  },
  {
   "cell_type": "markdown",
   "metadata": {},
   "source": [
    "### Imports"
   ]
  },
  {
   "cell_type": "code",
   "execution_count": 1,
   "metadata": {},
   "outputs": [],
   "source": [
    "# basic data science libraries\n",
    "import pandas as pd \n",
    "import numpy as np\n",
    "import matplotlib.pyplot as plt\n",
    "\n",
    "\n",
    "# preprocessing\n",
    "from sklearn.preprocessing import LabelEncoder\n",
    "from sklearn.feature_extraction.text import TfidfVectorizer\n",
    "from sklearn.model_selection import train_test_split, GridSearchCV \n",
    "\n",
    "# models and validation\n",
    "from sklearn import naive_bayes, svm\n",
    "from sklearn import metrics\n",
    "\n",
    "# load data from json file\n",
    "import json\n",
    "import re\n",
    "import itertools\n",
    "import emoji\n",
    "\n",
    "# Text Preprocessing\n",
    "import nltk\n",
    "from nltk.tokenize import word_tokenize\n",
    "from nltk import pos_tag\n",
    "from nltk.corpus import stopwords\n",
    "from nltk.stem import WordNetLemmatizer\n",
    "from collections import defaultdict\n",
    "from nltk.corpus import wordnet as wn\n",
    "\n",
    "\n",
    "# nltk.download('wordnet')\n",
    "# nltk.download('omw-1.4')\n",
    "# nltk.download('averaged_perceptron_tagger')"
   ]
  },
  {
   "cell_type": "markdown",
   "metadata": {},
   "source": [
    "### Important variables"
   ]
  },
  {
   "cell_type": "code",
   "execution_count": 2,
   "metadata": {},
   "outputs": [],
   "source": [
    "DATA_PATH = r\"..\\data\"\n",
    "SUBMISSIONS_PATH = r\"..\\submissions\"\n",
    "SAVE_SUBMISSION_MODE = True"
   ]
  },
  {
   "cell_type": "markdown",
   "metadata": {},
   "source": [
    "### Load data"
   ]
  },
  {
   "cell_type": "code",
   "execution_count": 3,
   "metadata": {},
   "outputs": [],
   "source": [
    "df_train = pd.read_csv(DATA_PATH + r\"\\train.csv\")\n",
    "df_test = pd.read_csv(DATA_PATH + r\"\\test.csv\")\n",
    "with open('en_contractions.json') as file:\n",
    "    contractions = json.load(file)"
   ]
  },
  {
   "cell_type": "markdown",
   "metadata": {},
   "source": [
    "## Preprocessing"
   ]
  },
  {
   "cell_type": "code",
   "execution_count": 4,
   "metadata": {},
   "outputs": [],
   "source": [
    "def remove_contractions(text):\n",
    "    \"\"\"\n",
    "    Function to replace contractions with their longer forms\n",
    "\n",
    "    Args:\n",
    "    string text: text to replace contractions\n",
    "\n",
    "    Returns:\n",
    "    string: replaced text\n",
    "    \"\"\"\n",
    "    assert 'contractions' in globals(), \"Json file with contractions not loaded\"\n",
    "    return contractions[text.lower()] if text.lower() in contractions.keys() else text"
   ]
  },
  {
   "cell_type": "code",
   "execution_count": 5,
   "metadata": {},
   "outputs": [],
   "source": [
    "def clean_dataset(text):\n",
    "    \"\"\"\n",
    "    Function to get rif off unwanted patterns\n",
    "    Args:\n",
    "    string text: text to clean\n",
    "\n",
    "    Returns:\n",
    "    string: replaced text\n",
    "    \"\"\"\n",
    "    # Remove hashtag while keeping hashtag text\n",
    "    text = re.sub(r'#','', text)\n",
    "    # Remove HTML special entities (e.g. &amp;)\n",
    "    text = re.sub(r'\\&\\w*;', '', text)\n",
    "    # Remove tickers\n",
    "    text = re.sub(r'\\$\\w*', '', text)\n",
    "    # Remove hyperlinks\n",
    "    text = re.sub(r'https?:\\/\\/.*\\/\\w*', '', text)\n",
    "    # Remove whitespace (including new line characters)\n",
    "    text = re.sub(r'\\s\\s+','', text)\n",
    "    text = re.sub(r'[ ]{2, }',' ',text)\n",
    "    # Remove URL, RT, mention(@)\n",
    "    text=  re.sub(r'http(\\S)+', '',text)\n",
    "    text=  re.sub(r'http ...', '',text)\n",
    "    text=  re.sub(r'(RT|rt)[ ]*@[ ]*[\\S]+','',text)\n",
    "    text=  re.sub(r'RT[ ]?@','',text)\n",
    "    text = re.sub(r'@[\\S]+','',text)\n",
    "    # Remove words with 4 or fewer letters\n",
    "    text = re.sub(r'\\b\\w{1,4}\\b', '', text)\n",
    "    #&, < and >\n",
    "    text = re.sub(r'&amp;?', 'and',text)\n",
    "    text = re.sub(r'&lt;','<',text)\n",
    "    text = re.sub(r'&gt;','>',text)\n",
    "    # Remove characters beyond Basic Multilingual Plane (BMP) of Unicode:\n",
    "    text= ''.join(c for c in text if c <= '\\uFFFF') \n",
    "    text = text.strip()\n",
    "    # Remove misspelling words\n",
    "    text = ''.join(''.join(s)[:2] for _, s in itertools.groupby(text))\n",
    "    # Remove emoji\n",
    "    text = emoji.demojize(text)\n",
    "    text = text.replace(\":\",\" \")\n",
    "    text = ' '.join(text.split()) \n",
    "    text = re.sub(\"([^\\x00-\\x7F])+\",\" \",text)\n",
    "    # Remove Mojibake (also extra spaces)\n",
    "    text = ' '.join(re.sub(\"[^\\u4e00-\\u9fa5\\u0030-\\u0039\\u0041-\\u005a\\u0061-\\u007a]\", \" \", text).split())\n",
    "    return text"
   ]
  },
  {
   "cell_type": "code",
   "execution_count": 6,
   "metadata": {},
   "outputs": [],
   "source": [
    "# Remove blank rows if any.\n",
    "df_train['text'].dropna(inplace=True)\n",
    "df_test['text'].dropna(inplace=True)\n",
    "\n",
    "# Change all the text to lower case.\n",
    "df_train['text'] = [entry.lower() for entry in df_train['text']]\n",
    "df_test['text'] = [entry.lower() for entry in df_test['text']]\n",
    "\n",
    "#Clean text\n",
    "# df_train['text'] =df_train['text'].apply(clean_dataset)\n",
    "# df_test['text'] =df_test['text'].apply(clean_dataset)\n",
    "\n",
    "# Remove contractions\n",
    "df_train['text']=df_train['text'].apply(remove_contractions)\n",
    "df_test['text']=df_test['text'].apply(remove_contractions)\n",
    "\n",
    "# Tokenization : In this each entry in the corpus will be broken into set of words\n",
    "df_train['text']= [word_tokenize(entry) for entry in df_train['text']]\n",
    "df_test['text']= [word_tokenize(entry) for entry in df_test['text']]\n",
    "\n",
    "# Remove Stop words, Non-Numeric and perfom Word Stemming/Lemmenting.\n",
    "# WordNetLemmatizer requires Pos tags to understand if the word is noun or verb or adjective etc. By default it is set to Noun\n",
    "tag_map = defaultdict(lambda : wn.NOUN)\n",
    "tag_map['J'] = wn.ADJ\n",
    "tag_map['V'] = wn.VERB\n",
    "tag_map['R'] = wn.ADV\n",
    "\n",
    "# Initializing WordNetLemmatizer()\n",
    "word_Lemmatized = WordNetLemmatizer()\n",
    "\n",
    "for index,entry in enumerate(df_train['text']):\n",
    "    # Declaring Empty List to store the words that follow the rules for this step\n",
    "    Final_words = []\n",
    "    # pos_tag function below will provide the 'tag' i.e if the word is Noun(N) or Verb(V) or something else.\n",
    "    for word, tag in pos_tag(entry):\n",
    "        # Below condition is to check for Stop words and consider only alphabets\n",
    "        if word not in stopwords.words('english') and word.isalpha():\n",
    "            word_Final = word_Lemmatized.lemmatize(word,tag_map[tag[0]])\n",
    "            Final_words.append(word_Final)\n",
    "    # The final processed set of words for each iteration will be stored in 'text_final'\n",
    "    df_train.loc[index,'text_final'] = str(Final_words)\n",
    "\n",
    "for index,entry in enumerate(df_test['text']):\n",
    "    # Declaring Empty List to store the words that follow the rules for this step\n",
    "    Final_words = []\n",
    "    # pos_tag function below will provide the 'tag' i.e if the word is Noun(N) or Verb(V) or something else.\n",
    "    for word, tag in pos_tag(entry):\n",
    "        # Below condition is to check for Stop words and consider only alphabets\n",
    "        if word not in stopwords.words('english') and word.isalpha():\n",
    "            word_Final = word_Lemmatized.lemmatize(word,tag_map[tag[0]])\n",
    "            Final_words.append(word_Final)\n",
    "    # The final processed set of words for each iteration will be stored in 'text_final'\n",
    "    df_test.loc[index,'text_final'] = str(Final_words)"
   ]
  },
  {
   "cell_type": "code",
   "execution_count": 7,
   "metadata": {},
   "outputs": [
    {
     "data": {
      "text/html": [
       "<div>\n",
       "<style scoped>\n",
       "    .dataframe tbody tr th:only-of-type {\n",
       "        vertical-align: middle;\n",
       "    }\n",
       "\n",
       "    .dataframe tbody tr th {\n",
       "        vertical-align: top;\n",
       "    }\n",
       "\n",
       "    .dataframe thead th {\n",
       "        text-align: right;\n",
       "    }\n",
       "</style>\n",
       "<table border=\"1\" class=\"dataframe\">\n",
       "  <thead>\n",
       "    <tr style=\"text-align: right;\">\n",
       "      <th></th>\n",
       "      <th>id</th>\n",
       "      <th>keyword</th>\n",
       "      <th>location</th>\n",
       "      <th>text</th>\n",
       "      <th>target</th>\n",
       "      <th>text_final</th>\n",
       "    </tr>\n",
       "  </thead>\n",
       "  <tbody>\n",
       "    <tr>\n",
       "      <th>0</th>\n",
       "      <td>1</td>\n",
       "      <td>NaN</td>\n",
       "      <td>NaN</td>\n",
       "      <td>[our, deeds, are, the, reason, of, this, #, ea...</td>\n",
       "      <td>1</td>\n",
       "      <td>['deed', 'reason', 'earthquake', 'may', 'allah...</td>\n",
       "    </tr>\n",
       "    <tr>\n",
       "      <th>1</th>\n",
       "      <td>4</td>\n",
       "      <td>NaN</td>\n",
       "      <td>NaN</td>\n",
       "      <td>[forest, fire, near, la, ronge, sask, ., canada]</td>\n",
       "      <td>1</td>\n",
       "      <td>['forest', 'fire', 'near', 'la', 'ronge', 'sas...</td>\n",
       "    </tr>\n",
       "    <tr>\n",
       "      <th>2</th>\n",
       "      <td>5</td>\n",
       "      <td>NaN</td>\n",
       "      <td>NaN</td>\n",
       "      <td>[all, residents, asked, to, 'shelter, in, plac...</td>\n",
       "      <td>1</td>\n",
       "      <td>['resident', 'ask', 'place', 'notify', 'office...</td>\n",
       "    </tr>\n",
       "    <tr>\n",
       "      <th>3</th>\n",
       "      <td>6</td>\n",
       "      <td>NaN</td>\n",
       "      <td>NaN</td>\n",
       "      <td>[13,000, people, receive, #, wildfires, evacua...</td>\n",
       "      <td>1</td>\n",
       "      <td>['people', 'receive', 'wildfire', 'evacuation'...</td>\n",
       "    </tr>\n",
       "    <tr>\n",
       "      <th>4</th>\n",
       "      <td>7</td>\n",
       "      <td>NaN</td>\n",
       "      <td>NaN</td>\n",
       "      <td>[just, got, sent, this, photo, from, ruby, #, ...</td>\n",
       "      <td>1</td>\n",
       "      <td>['get', 'send', 'photo', 'ruby', 'alaska', 'sm...</td>\n",
       "    </tr>\n",
       "  </tbody>\n",
       "</table>\n",
       "</div>"
      ],
      "text/plain": [
       "   id keyword location                                               text  \\\n",
       "0   1     NaN      NaN  [our, deeds, are, the, reason, of, this, #, ea...   \n",
       "1   4     NaN      NaN   [forest, fire, near, la, ronge, sask, ., canada]   \n",
       "2   5     NaN      NaN  [all, residents, asked, to, 'shelter, in, plac...   \n",
       "3   6     NaN      NaN  [13,000, people, receive, #, wildfires, evacua...   \n",
       "4   7     NaN      NaN  [just, got, sent, this, photo, from, ruby, #, ...   \n",
       "\n",
       "   target                                         text_final  \n",
       "0       1  ['deed', 'reason', 'earthquake', 'may', 'allah...  \n",
       "1       1  ['forest', 'fire', 'near', 'la', 'ronge', 'sas...  \n",
       "2       1  ['resident', 'ask', 'place', 'notify', 'office...  \n",
       "3       1  ['people', 'receive', 'wildfire', 'evacuation'...  \n",
       "4       1  ['get', 'send', 'photo', 'ruby', 'alaska', 'sm...  "
      ]
     },
     "execution_count": 7,
     "metadata": {},
     "output_type": "execute_result"
    }
   ],
   "source": [
    "df_train.head()"
   ]
  },
  {
   "cell_type": "code",
   "execution_count": 8,
   "metadata": {},
   "outputs": [],
   "source": [
    "# for submission whole dataset should be trained\n",
    "X_train, X_test, y_train, y_test = train_test_split(df_train[\"text_final\"],df_train[\"target\"],test_size=.15)"
   ]
  },
  {
   "cell_type": "code",
   "execution_count": 9,
   "metadata": {},
   "outputs": [],
   "source": [
    "Encoder = LabelEncoder()\n",
    "Train_Y = Encoder.fit_transform(y_train)\n",
    "Test_Y = Encoder.fit_transform(y_test)\n",
    "\n",
    "Whole_Y = Encoder.fit_transform(df_train[\"target\"])"
   ]
  },
  {
   "cell_type": "code",
   "execution_count": 10,
   "metadata": {},
   "outputs": [],
   "source": [
    "# Convert a collection of raw documents to a matrix of TF-IDF features.\n",
    "Tfidf_vect = TfidfVectorizer(max_features=5000)\n",
    "Tfidf_vect.fit(df_train['text_final'])\n",
    "Train_X_Tfidf = Tfidf_vect.transform(X_train)\n",
    "Test_X_Tfidf = Tfidf_vect.transform(X_test)\n",
    "Whole_X_Tfidf = Tfidf_vect.transform(df_train['text_final'])\n",
    "\n",
    "if SAVE_SUBMISSION_MODE:\n",
    "    Test_X_Tfidf_subm = Tfidf_vect.transform(df_test['text_final'])\n"
   ]
  },
  {
   "cell_type": "markdown",
   "metadata": {},
   "source": [
    "# Naive Bayes"
   ]
  },
  {
   "cell_type": "code",
   "execution_count": 11,
   "metadata": {},
   "outputs": [
    {
     "name": "stdout",
     "output_type": "stream",
     "text": [
      "Naive Bayes Accuracy Score ->  79.85989492119089\n"
     ]
    }
   ],
   "source": [
    "Naive = naive_bayes.MultinomialNB()\n",
    "Naive.fit(Train_X_Tfidf,Train_Y)\n",
    "# predict the labels on validation dataset\n",
    "predictions_NB = Naive.predict(Test_X_Tfidf)\n",
    "# Use accuracy_score function to get the accuracy\n",
    "print(\"Naive Bayes Accuracy Score -> \",metrics.accuracy_score(predictions_NB, Test_Y)*100)"
   ]
  },
  {
   "cell_type": "code",
   "execution_count": 12,
   "metadata": {},
   "outputs": [
    {
     "name": "stdout",
     "output_type": "stream",
     "text": [
      "Model test:\n",
      "\t\tPrec: 0.8072916666666666         \n",
      "\t\t Rec: 0.6652360515021459         \n",
      "\t\t F1: 0.7294117647058824         \n",
      "\t\t Acc: 0.7985989492119089\n"
     ]
    },
    {
     "data": {
      "image/png": "[encoded data removed]",
      "text/plain": [
       "<Figure size 360x360 with 1 Axes>"
      ]
     },
     "metadata": {
      "needs_background": "light"
     },
     "output_type": "display_data"
    }
   ],
   "source": [
    "print('Model test:')\n",
    "\n",
    "print(f'\\t\\tPrec: {metrics.precision_score(Test_Y, predictions_NB)} \\\n",
    "        \\n\\t\\t Rec: {metrics.recall_score(Test_Y, predictions_NB)} \\\n",
    "        \\n\\t\\t F1: {metrics.f1_score(Test_Y, predictions_NB)} \\\n",
    "        \\n\\t\\t Acc: {metrics.accuracy_score(Test_Y, predictions_NB)}')\n",
    "\n",
    "# ROC curve\n",
    "fpr, tpr, thresholds = metrics.roc_curve(Test_Y, predictions_NB)\n",
    "roc_auc = metrics.auc(fpr, tpr)\n",
    "plt.figure(figsize=(5, 5))\n",
    "plt.axis('equal')\n",
    "plt.plot(fpr, tpr, lw=2, label=\"AUC = %0.2f\" % roc_auc)\n",
    "plt.plot([0, 1], [0, 1], color=\"gray\", lw=2, linestyle=\"--\")\n",
    "plt.xlim([0.0, 1.0])\n",
    "plt.ylim([0.0, 1.05])\n",
    "plt.xlabel(\"False Positive Rate\")\n",
    "plt.ylabel(\"True Positive Rate\")\n",
    "plt.legend(loc=\"lower right\")\n",
    "plt.show()"
   ]
  },
  {
   "cell_type": "code",
   "execution_count": 13,
   "metadata": {},
   "outputs": [
    {
     "data": {
      "text/plain": [
       "<sklearn.metrics._plot.confusion_matrix.ConfusionMatrixDisplay at 0x24318b533d0>"
      ]
     },
     "execution_count": 13,
     "metadata": {},
     "output_type": "execute_result"
    },
    {
     "data": {
      "image/png": "[encoded data removed]",
      "text/plain": [
       "<Figure size 432x288 with 2 Axes>"
      ]
     },
     "metadata": {
      "needs_background": "light"
     },
     "output_type": "display_data"
    }
   ],
   "source": [
    "cm = metrics.confusion_matrix(Test_Y, predictions_NB, labels=Naive.classes_)\n",
    "disp = metrics.ConfusionMatrixDisplay(confusion_matrix=cm,\n",
    "                              display_labels=Naive.classes_)\n",
    "disp.plot()\n"
   ]
  },
  {
   "cell_type": "code",
   "execution_count": 14,
   "metadata": {},
   "outputs": [
    {
     "data": {
      "text/plain": [
       "73.71937639198218"
      ]
     },
     "execution_count": 14,
     "metadata": {},
     "output_type": "execute_result"
    }
   ],
   "source": [
    "predictions_NB_custom_threshold = Naive.predict_proba(Test_X_Tfidf)\n",
    "y_pred = (predictions_NB_custom_threshold[:,1] >= .45).astype(bool).astype(int) \n",
    "metrics.f1_score(y_pred, Test_Y)*100"
   ]
  },
  {
   "cell_type": "code",
   "execution_count": 15,
   "metadata": {},
   "outputs": [],
   "source": [
    "if SAVE_SUBMISSION_MODE:\n",
    "    Naive = naive_bayes.MultinomialNB()\n",
    "    Naive.fit(Whole_X_Tfidf,Whole_Y)\n",
    "    submission_NB = Naive.predict(Test_X_Tfidf_subm)\n",
    "    submission_NB = pd.DataFrame(submission_NB)\n",
    "    tmp = pd.concat([df_test,submission_NB], axis = 1 )\n",
    "\n",
    "\n",
    "    # submission_NB_custom_threshold = Naive.predict_proba(Test_X_Tfidf_subm)\n",
    "    # submission_NB_custom_threshold = (submission_NB_custom_threshold[:,1] >= .45)\n",
    "    # submission_NB_custom_threshold = pd.DataFrame(submission_NB_custom_threshold)\n",
    "    # tmp = pd.concat([df_test,submission_NB_custom_threshold], axis = 1 )\n",
    "    \n",
    "    \n",
    "    tmp = tmp.drop([\"text\",\"keyword\",\"location\",\"text_final\"], axis = 1)\n",
    "    tmp.columns = ['id', \"target\"]\n",
    "    tmp.to_csv(SUBMISSIONS_PATH + r\"\\submissionNB.csv\", index = False)\n"
   ]
  },
  {
   "cell_type": "code",
   "execution_count": 16,
   "metadata": {},
   "outputs": [
    {
     "data": {
      "text/plain": [
       "(1142, 2)"
      ]
     },
     "execution_count": 16,
     "metadata": {},
     "output_type": "execute_result"
    }
   ],
   "source": [
    "predictions_NB_custom_threshold.shape"
   ]
  },
  {
   "cell_type": "code",
   "execution_count": 17,
   "metadata": {},
   "outputs": [
    {
     "data": {
      "text/plain": [
       "1142"
      ]
     },
     "execution_count": 17,
     "metadata": {},
     "output_type": "execute_result"
    }
   ],
   "source": [
    "len(predictions_NB_custom_threshold[:,0])"
   ]
  },
  {
   "cell_type": "markdown",
   "metadata": {},
   "source": [
    "# SVM"
   ]
  },
  {
   "cell_type": "code",
   "execution_count": 18,
   "metadata": {},
   "outputs": [
    {
     "name": "stdout",
     "output_type": "stream",
     "text": [
      "SVM Accuracy Score ->  79.42206654991243\n"
     ]
    }
   ],
   "source": [
    "# Classifier - Algorithm - SVM\n",
    "# fit the training dataset on the classifier\n",
    "SVM = svm.SVC()\n",
    "SVM.fit(Train_X_Tfidf,Train_Y)\n",
    "# predict the labels on validation dataset\n",
    "predictions_SVM = SVM.predict(Test_X_Tfidf)\n",
    "# Use accuracy_score function to get the accuracy\n",
    "print(\"SVM Accuracy Score -> \",metrics.accuracy_score(predictions_SVM, Test_Y)*100)"
   ]
  },
  {
   "cell_type": "code",
   "execution_count": 19,
   "metadata": {},
   "outputs": [
    {
     "name": "stdout",
     "output_type": "stream",
     "text": [
      "Model test:\n",
      "\t\tPrec: 0.8147138964577657         \n",
      "\t\t Rec: 0.6416309012875536         \n",
      "\t\t F1: 0.7178871548619449         \n",
      "\t\t Acc: 0.7942206654991243         \n",
      "\t\t ROC_AUC: 0.7705195926556112\n"
     ]
    },
    {
     "data": {
      "image/png": "[encoded data removed]",
      "text/plain": [
       "<Figure size 360x360 with 1 Axes>"
      ]
     },
     "metadata": {
      "needs_background": "light"
     },
     "output_type": "display_data"
    }
   ],
   "source": [
    "print('Model test:')\n",
    "\n",
    "print(f'\\t\\tPrec: {metrics.precision_score(Test_Y, predictions_SVM)} \\\n",
    "        \\n\\t\\t Rec: {metrics.recall_score(Test_Y, predictions_SVM)} \\\n",
    "        \\n\\t\\t F1: {metrics.f1_score(Test_Y, predictions_SVM)} \\\n",
    "        \\n\\t\\t Acc: {metrics.accuracy_score(Test_Y, predictions_SVM)} \\\n",
    "        \\n\\t\\t ROC_AUC: {metrics.roc_auc_score(Test_Y, predictions_SVM)}')\n",
    "\n",
    "# ROC curve\n",
    "fpr, tpr, thresholds = metrics.roc_curve(Test_Y, predictions_SVM)\n",
    "roc_auc = metrics.auc(fpr, tpr)\n",
    "plt.figure(figsize=(5, 5))\n",
    "plt.axis('equal')\n",
    "plt.plot(fpr, tpr, lw=2, label=\"AUC = %0.2f\" % roc_auc)\n",
    "plt.plot([0, 1], [0, 1], color=\"gray\", lw=2, linestyle=\"--\")\n",
    "plt.xlim([0.0, 1.0])\n",
    "plt.ylim([0.0, 1.05])\n",
    "plt.xlabel(\"False Positive Rate\")\n",
    "plt.ylabel(\"True Positive Rate\")\n",
    "plt.legend(loc=\"lower right\")\n",
    "plt.show()"
   ]
  },
  {
   "cell_type": "code",
   "execution_count": 20,
   "metadata": {},
   "outputs": [
    {
     "data": {
      "text/plain": [
       "<sklearn.metrics._plot.confusion_matrix.ConfusionMatrixDisplay at 0x24319a36be0>"
      ]
     },
     "execution_count": 20,
     "metadata": {},
     "output_type": "execute_result"
    },
    {
     "data": {
      "image/png": "[encoded data removed]",
      "text/plain": [
       "<Figure size 432x288 with 2 Axes>"
      ]
     },
     "metadata": {
      "needs_background": "light"
     },
     "output_type": "display_data"
    }
   ],
   "source": [
    "cm = metrics.confusion_matrix(Test_Y, predictions_SVM, labels=SVM.classes_)\n",
    "disp = metrics.ConfusionMatrixDisplay(confusion_matrix=cm,\n",
    "                              display_labels=SVM.classes_)\n",
    "disp.plot()\n",
    "\n"
   ]
  },
  {
   "cell_type": "markdown",
   "metadata": {},
   "source": [
    "## Grid Search"
   ]
  },
  {
   "cell_type": "code",
   "execution_count": 21,
   "metadata": {},
   "outputs": [
    {
     "name": "stdout",
     "output_type": "stream",
     "text": [
      "Fitting 5 folds for each of 18 candidates, totalling 90 fits\n",
      "[CV 1/5] END ......C=0.7, gamma=0.5, kernel=rbf;, score=0.798 total time=   2.9s\n",
      "[CV 2/5] END ......C=0.7, gamma=0.5, kernel=rbf;, score=0.806 total time=   3.0s\n",
      "[CV 3/5] END ......C=0.7, gamma=0.5, kernel=rbf;, score=0.804 total time=   2.8s\n",
      "[CV 4/5] END ......C=0.7, gamma=0.5, kernel=rbf;, score=0.774 total time=   2.7s\n",
      "[CV 5/5] END ......C=0.7, gamma=0.5, kernel=rbf;, score=0.802 total time=   2.8s\n",
      "[CV 1/5] END ........C=0.7, gamma=1, kernel=rbf;, score=0.798 total time=   3.0s\n",
      "[CV 2/5] END ........C=0.7, gamma=1, kernel=rbf;, score=0.794 total time=   3.1s\n",
      "[CV 3/5] END ........C=0.7, gamma=1, kernel=rbf;, score=0.801 total time=   3.0s\n",
      "[CV 4/5] END ........C=0.7, gamma=1, kernel=rbf;, score=0.772 total time=   3.1s\n",
      "[CV 5/5] END ........C=0.7, gamma=1, kernel=rbf;, score=0.799 total time=   3.3s\n",
      "[CV 1/5] END ......C=0.7, gamma=1.5, kernel=rbf;, score=0.779 total time=   3.4s\n",
      "[CV 2/5] END ......C=0.7, gamma=1.5, kernel=rbf;, score=0.777 total time=   3.4s\n",
      "[CV 3/5] END ......C=0.7, gamma=1.5, kernel=rbf;, score=0.781 total time=   3.3s\n",
      "[CV 4/5] END ......C=0.7, gamma=1.5, kernel=rbf;, score=0.757 total time=   3.3s\n",
      "[CV 5/5] END ......C=0.7, gamma=1.5, kernel=rbf;, score=0.791 total time=   3.3s\n",
      "[CV 1/5] END ......C=0.8, gamma=0.5, kernel=rbf;, score=0.804 total time=   3.7s\n",
      "[CV 2/5] END ......C=0.8, gamma=0.5, kernel=rbf;, score=0.809 total time=   3.0s\n",
      "[CV 3/5] END ......C=0.8, gamma=0.5, kernel=rbf;, score=0.802 total time=   2.8s\n",
      "[CV 4/5] END ......C=0.8, gamma=0.5, kernel=rbf;, score=0.773 total time=   2.9s\n",
      "[CV 5/5] END ......C=0.8, gamma=0.5, kernel=rbf;, score=0.804 total time=   3.0s\n",
      "[CV 1/5] END ........C=0.8, gamma=1, kernel=rbf;, score=0.798 total time=   3.1s\n",
      "[CV 2/5] END ........C=0.8, gamma=1, kernel=rbf;, score=0.801 total time=   3.8s\n",
      "[CV 3/5] END ........C=0.8, gamma=1, kernel=rbf;, score=0.798 total time=   2.9s\n",
      "[CV 4/5] END ........C=0.8, gamma=1, kernel=rbf;, score=0.773 total time=   2.9s\n",
      "[CV 5/5] END ........C=0.8, gamma=1, kernel=rbf;, score=0.801 total time=   3.5s\n",
      "[CV 1/5] END ......C=0.8, gamma=1.5, kernel=rbf;, score=0.788 total time=   3.3s\n",
      "[CV 2/5] END ......C=0.8, gamma=1.5, kernel=rbf;, score=0.788 total time=   3.5s\n",
      "[CV 3/5] END ......C=0.8, gamma=1.5, kernel=rbf;, score=0.789 total time=   3.6s\n",
      "[CV 4/5] END ......C=0.8, gamma=1.5, kernel=rbf;, score=0.762 total time=   3.5s\n",
      "[CV 5/5] END ......C=0.8, gamma=1.5, kernel=rbf;, score=0.797 total time=   3.3s\n",
      "[CV 1/5] END ......C=0.9, gamma=0.5, kernel=rbf;, score=0.803 total time=   2.7s\n",
      "[CV 2/5] END ......C=0.9, gamma=0.5, kernel=rbf;, score=0.808 total time=   3.3s\n",
      "[CV 3/5] END ......C=0.9, gamma=0.5, kernel=rbf;, score=0.801 total time=   2.7s\n",
      "[CV 4/5] END ......C=0.9, gamma=0.5, kernel=rbf;, score=0.769 total time=   2.7s\n",
      "[CV 5/5] END ......C=0.9, gamma=0.5, kernel=rbf;, score=0.807 total time=   3.1s\n",
      "[CV 1/5] END ........C=0.9, gamma=1, kernel=rbf;, score=0.804 total time=   3.1s\n",
      "[CV 2/5] END ........C=0.9, gamma=1, kernel=rbf;, score=0.803 total time=   3.3s\n",
      "[CV 3/5] END ........C=0.9, gamma=1, kernel=rbf;, score=0.800 total time=   3.0s\n",
      "[CV 4/5] END ........C=0.9, gamma=1, kernel=rbf;, score=0.777 total time=   3.0s\n",
      "[CV 5/5] END ........C=0.9, gamma=1, kernel=rbf;, score=0.801 total time=   3.0s\n",
      "[CV 1/5] END ......C=0.9, gamma=1.5, kernel=rbf;, score=0.791 total time=   3.5s\n",
      "[CV 2/5] END ......C=0.9, gamma=1.5, kernel=rbf;, score=0.794 total time=   3.6s\n",
      "[CV 3/5] END ......C=0.9, gamma=1.5, kernel=rbf;, score=0.791 total time=   3.2s\n",
      "[CV 4/5] END ......C=0.9, gamma=1.5, kernel=rbf;, score=0.768 total time=   4.0s\n",
      "[CV 5/5] END ......C=0.9, gamma=1.5, kernel=rbf;, score=0.798 total time=   3.2s\n",
      "[CV 1/5] END ........C=1, gamma=0.5, kernel=rbf;, score=0.806 total time=   2.8s\n",
      "[CV 2/5] END ........C=1, gamma=0.5, kernel=rbf;, score=0.807 total time=   3.1s\n",
      "[CV 3/5] END ........C=1, gamma=0.5, kernel=rbf;, score=0.801 total time=   2.8s\n",
      "[CV 4/5] END ........C=1, gamma=0.5, kernel=rbf;, score=0.772 total time=   2.8s\n",
      "[CV 5/5] END ........C=1, gamma=0.5, kernel=rbf;, score=0.808 total time=   2.9s\n",
      "[CV 1/5] END ..........C=1, gamma=1, kernel=rbf;, score=0.803 total time=   3.2s\n",
      "[CV 2/5] END ..........C=1, gamma=1, kernel=rbf;, score=0.808 total time=   3.2s\n",
      "[CV 3/5] END ..........C=1, gamma=1, kernel=rbf;, score=0.798 total time=   3.2s\n",
      "[CV 4/5] END ..........C=1, gamma=1, kernel=rbf;, score=0.773 total time=   3.1s\n",
      "[CV 5/5] END ..........C=1, gamma=1, kernel=rbf;, score=0.804 total time=   3.5s\n",
      "[CV 1/5] END ........C=1, gamma=1.5, kernel=rbf;, score=0.795 total time=   3.6s\n",
      "[CV 2/5] END ........C=1, gamma=1.5, kernel=rbf;, score=0.800 total time=   3.3s\n",
      "[CV 3/5] END ........C=1, gamma=1.5, kernel=rbf;, score=0.790 total time=   3.2s\n",
      "[CV 4/5] END ........C=1, gamma=1.5, kernel=rbf;, score=0.772 total time=   3.4s\n",
      "[CV 5/5] END ........C=1, gamma=1.5, kernel=rbf;, score=0.797 total time=   3.4s\n",
      "[CV 1/5] END ......C=1.1, gamma=0.5, kernel=rbf;, score=0.808 total time=   2.9s\n",
      "[CV 2/5] END ......C=1.1, gamma=0.5, kernel=rbf;, score=0.807 total time=   3.4s\n",
      "[CV 3/5] END ......C=1.1, gamma=0.5, kernel=rbf;, score=0.801 total time=   3.2s\n",
      "[CV 4/5] END ......C=1.1, gamma=0.5, kernel=rbf;, score=0.770 total time=   2.8s\n",
      "[CV 5/5] END ......C=1.1, gamma=0.5, kernel=rbf;, score=0.807 total time=   3.2s\n",
      "[CV 1/5] END ........C=1.1, gamma=1, kernel=rbf;, score=0.808 total time=   3.3s\n",
      "[CV 2/5] END ........C=1.1, gamma=1, kernel=rbf;, score=0.809 total time=   3.0s\n",
      "[CV 3/5] END ........C=1.1, gamma=1, kernel=rbf;, score=0.794 total time=   3.2s\n",
      "[CV 4/5] END ........C=1.1, gamma=1, kernel=rbf;, score=0.771 total time=   3.4s\n",
      "[CV 5/5] END ........C=1.1, gamma=1, kernel=rbf;, score=0.808 total time=   3.2s\n",
      "[CV 1/5] END ......C=1.1, gamma=1.5, kernel=rbf;, score=0.798 total time=   3.2s\n",
      "[CV 2/5] END ......C=1.1, gamma=1.5, kernel=rbf;, score=0.801 total time=   3.5s\n",
      "[CV 3/5] END ......C=1.1, gamma=1.5, kernel=rbf;, score=0.797 total time=   3.2s\n",
      "[CV 4/5] END ......C=1.1, gamma=1.5, kernel=rbf;, score=0.776 total time=   3.2s\n",
      "[CV 5/5] END ......C=1.1, gamma=1.5, kernel=rbf;, score=0.801 total time=   3.2s\n",
      "[CV 1/5] END ......C=1.2, gamma=0.5, kernel=rbf;, score=0.809 total time=   2.7s\n",
      "[CV 2/5] END ......C=1.2, gamma=0.5, kernel=rbf;, score=0.810 total time=   2.7s\n",
      "[CV 3/5] END ......C=1.2, gamma=0.5, kernel=rbf;, score=0.801 total time=   2.7s\n",
      "[CV 4/5] END ......C=1.2, gamma=0.5, kernel=rbf;, score=0.771 total time=   2.6s\n",
      "[CV 5/5] END ......C=1.2, gamma=0.5, kernel=rbf;, score=0.811 total time=   2.7s\n",
      "[CV 1/5] END ........C=1.2, gamma=1, kernel=rbf;, score=0.807 total time=   3.2s\n",
      "[CV 2/5] END ........C=1.2, gamma=1, kernel=rbf;, score=0.812 total time=   3.2s\n",
      "[CV 3/5] END ........C=1.2, gamma=1, kernel=rbf;, score=0.797 total time=   3.2s\n",
      "[CV 4/5] END ........C=1.2, gamma=1, kernel=rbf;, score=0.772 total time=   3.1s\n",
      "[CV 5/5] END ........C=1.2, gamma=1, kernel=rbf;, score=0.810 total time=   3.1s\n",
      "[CV 1/5] END ......C=1.2, gamma=1.5, kernel=rbf;, score=0.801 total time=   3.2s\n",
      "[CV 2/5] END ......C=1.2, gamma=1.5, kernel=rbf;, score=0.805 total time=   4.3s\n",
      "[CV 3/5] END ......C=1.2, gamma=1.5, kernel=rbf;, score=0.798 total time=   3.3s\n",
      "[CV 4/5] END ......C=1.2, gamma=1.5, kernel=rbf;, score=0.773 total time=   3.6s\n",
      "[CV 5/5] END ......C=1.2, gamma=1.5, kernel=rbf;, score=0.801 total time=   3.4s\n"
     ]
    },
    {
     "data": {
      "text/html": [
       "<style>#sk-container-id-1 {color: black;background-color: white;}#sk-container-id-1 pre{padding: 0;}#sk-container-id-1 div.sk-toggleable {background-color: white;}#sk-container-id-1 label.sk-toggleable__label {cursor: pointer;display: block;width: 100%;margin-bottom: 0;padding: 0.3em;box-sizing: border-box;text-align: center;}#sk-container-id-1 label.sk-toggleable__label-arrow:before {content: \"▸\";float: left;margin-right: 0.25em;color: #696969;}#sk-container-id-1 label.sk-toggleable__label-arrow:hover:before {color: black;}#sk-container-id-1 div.sk-estimator:hover label.sk-toggleable__label-arrow:before {color: black;}#sk-container-id-1 div.sk-toggleable__content {max-height: 0;max-width: 0;overflow: hidden;text-align: left;background-color: #f0f8ff;}#sk-container-id-1 div.sk-toggleable__content pre {margin: 0.2em;color: black;border-radius: 0.25em;background-color: #f0f8ff;}#sk-container-id-1 input.sk-toggleable__control:checked~div.sk-toggleable__content {max-height: 200px;max-width: 100%;overflow: auto;}#sk-container-id-1 input.sk-toggleable__control:checked~label.sk-toggleable__label-arrow:before {content: \"▾\";}#sk-container-id-1 div.sk-estimator input.sk-toggleable__control:checked~label.sk-toggleable__label {background-color: #d4ebff;}#sk-container-id-1 div.sk-label input.sk-toggleable__control:checked~label.sk-toggleable__label {background-color: #d4ebff;}#sk-container-id-1 input.sk-hidden--visually {border: 0;clip: rect(1px 1px 1px 1px);clip: rect(1px, 1px, 1px, 1px);height: 1px;margin: -1px;overflow: hidden;padding: 0;position: absolute;width: 1px;}#sk-container-id-1 div.sk-estimator {font-family: monospace;background-color: #f0f8ff;border: 1px dotted black;border-radius: 0.25em;box-sizing: border-box;margin-bottom: 0.5em;}#sk-container-id-1 div.sk-estimator:hover {background-color: #d4ebff;}#sk-container-id-1 div.sk-parallel-item::after {content: \"\";width: 100%;border-bottom: 1px solid gray;flex-grow: 1;}#sk-container-id-1 div.sk-label:hover label.sk-toggleable__label {background-color: #d4ebff;}#sk-container-id-1 div.sk-serial::before {content: \"\";position: absolute;border-left: 1px solid gray;box-sizing: border-box;top: 0;bottom: 0;left: 50%;z-index: 0;}#sk-container-id-1 div.sk-serial {display: flex;flex-direction: column;align-items: center;background-color: white;padding-right: 0.2em;padding-left: 0.2em;position: relative;}#sk-container-id-1 div.sk-item {position: relative;z-index: 1;}#sk-container-id-1 div.sk-parallel {display: flex;align-items: stretch;justify-content: center;background-color: white;position: relative;}#sk-container-id-1 div.sk-item::before, #sk-container-id-1 div.sk-parallel-item::before {content: \"\";position: absolute;border-left: 1px solid gray;box-sizing: border-box;top: 0;bottom: 0;left: 50%;z-index: -1;}#sk-container-id-1 div.sk-parallel-item {display: flex;flex-direction: column;z-index: 1;position: relative;background-color: white;}#sk-container-id-1 div.sk-parallel-item:first-child::after {align-self: flex-end;width: 50%;}#sk-container-id-1 div.sk-parallel-item:last-child::after {align-self: flex-start;width: 50%;}#sk-container-id-1 div.sk-parallel-item:only-child::after {width: 0;}#sk-container-id-1 div.sk-dashed-wrapped {border: 1px dashed gray;margin: 0 0.4em 0.5em 0.4em;box-sizing: border-box;padding-bottom: 0.4em;background-color: white;}#sk-container-id-1 div.sk-label label {font-family: monospace;font-weight: bold;display: inline-block;line-height: 1.2em;}#sk-container-id-1 div.sk-label-container {text-align: center;}#sk-container-id-1 div.sk-container {/* jupyter's `normalize.less` sets `[hidden] { display: none; }` but bootstrap.min.css set `[hidden] { display: none !important; }` so we also need the `!important` here to be able to override the default hidden behavior on the sphinx rendered scikit-learn.org. See: https://github.com/scikit-learn/scikit-learn/issues/21755 */display: inline-block !important;position: relative;}#sk-container-id-1 div.sk-text-repr-fallback {display: none;}</style><div id=\"sk-container-id-1\" class=\"sk-top-container\"><div class=\"sk-text-repr-fallback\"><pre>GridSearchCV(estimator=SVC(),\n",
       "             param_grid={&#x27;C&#x27;: [0.7, 0.8, 0.9, 1, 1.1, 1.2],\n",
       "                         &#x27;gamma&#x27;: [0.5, 1, 1.5], &#x27;kernel&#x27;: [&#x27;rbf&#x27;]},\n",
       "             verbose=3)</pre><b>In a Jupyter environment, please rerun this cell to show the HTML representation or trust the notebook. <br />On GitHub, the HTML representation is unable to render, please try loading this page with nbviewer.org.</b></div><div class=\"sk-container\" hidden><div class=\"sk-item sk-dashed-wrapped\"><div class=\"sk-label-container\"><div class=\"sk-label sk-toggleable\"><input class=\"sk-toggleable__control sk-hidden--visually\" id=\"sk-estimator-id-1\" type=\"checkbox\" ><label for=\"sk-estimator-id-1\" class=\"sk-toggleable__label sk-toggleable__label-arrow\">GridSearchCV</label><div class=\"sk-toggleable__content\"><pre>GridSearchCV(estimator=SVC(),\n",
       "             param_grid={&#x27;C&#x27;: [0.7, 0.8, 0.9, 1, 1.1, 1.2],\n",
       "                         &#x27;gamma&#x27;: [0.5, 1, 1.5], &#x27;kernel&#x27;: [&#x27;rbf&#x27;]},\n",
       "             verbose=3)</pre></div></div></div><div class=\"sk-parallel\"><div class=\"sk-parallel-item\"><div class=\"sk-item\"><div class=\"sk-label-container\"><div class=\"sk-label sk-toggleable\"><input class=\"sk-toggleable__control sk-hidden--visually\" id=\"sk-estimator-id-2\" type=\"checkbox\" ><label for=\"sk-estimator-id-2\" class=\"sk-toggleable__label sk-toggleable__label-arrow\">estimator: SVC</label><div class=\"sk-toggleable__content\"><pre>SVC()</pre></div></div></div><div class=\"sk-serial\"><div class=\"sk-item\"><div class=\"sk-estimator sk-toggleable\"><input class=\"sk-toggleable__control sk-hidden--visually\" id=\"sk-estimator-id-3\" type=\"checkbox\" ><label for=\"sk-estimator-id-3\" class=\"sk-toggleable__label sk-toggleable__label-arrow\">SVC</label><div class=\"sk-toggleable__content\"><pre>SVC()</pre></div></div></div></div></div></div></div></div></div></div>"
      ],
      "text/plain": [
       "GridSearchCV(estimator=SVC(),\n",
       "             param_grid={'C': [0.7, 0.8, 0.9, 1, 1.1, 1.2],\n",
       "                         'gamma': [0.5, 1, 1.5], 'kernel': ['rbf']},\n",
       "             verbose=3)"
      ]
     },
     "execution_count": 21,
     "metadata": {},
     "output_type": "execute_result"
    }
   ],
   "source": [
    "# defining parameter range\n",
    "param_grid = {'C': [.7, .8, .9, 1 ,1.1, 1.2],\n",
    "              'gamma': [.5, 1, 1.5],\n",
    "              'kernel': ['rbf']}\n",
    " \n",
    "grid = GridSearchCV(SVM, param_grid, refit = True, verbose = 3)\n",
    " \n",
    "# fitting the model for grid search\n",
    "grid.fit(Train_X_Tfidf,Train_Y)"
   ]
  },
  {
   "cell_type": "code",
   "execution_count": 22,
   "metadata": {},
   "outputs": [
    {
     "name": "stdout",
     "output_type": "stream",
     "text": [
      "{'C': 1.2, 'gamma': 0.5, 'kernel': 'rbf'}\n",
      "SVC(C=1.2, gamma=0.5)\n"
     ]
    }
   ],
   "source": [
    "# print best parameter after tuning\n",
    "print(grid.best_params_)\n",
    " \n",
    "# print how our model looks after hyper-parameter tuning\n",
    "print(grid.best_estimator_)"
   ]
  },
  {
   "cell_type": "code",
   "execution_count": 23,
   "metadata": {},
   "outputs": [
    {
     "name": "stdout",
     "output_type": "stream",
     "text": [
      "              precision    recall  f1-score   support\n",
      "\n",
      "           0       0.78      0.90      0.84       676\n",
      "           1       0.81      0.64      0.72       466\n",
      "\n",
      "    accuracy                           0.79      1142\n",
      "   macro avg       0.80      0.77      0.78      1142\n",
      "weighted avg       0.80      0.79      0.79      1142\n",
      "\n"
     ]
    }
   ],
   "source": [
    "from sklearn.metrics import classification_report\n",
    "\n",
    "\n",
    "grid_predictions = grid.predict(Test_X_Tfidf)\n",
    " \n",
    "# print classification report\n",
    "print(classification_report(y_test, grid_predictions))"
   ]
  },
  {
   "cell_type": "code",
   "execution_count": 24,
   "metadata": {},
   "outputs": [],
   "source": [
    "if SAVE_SUBMISSION_MODE:\n",
    "    \n",
    "\n",
    "    Test_X_Tfidf_subm = Tfidf_vect.transform(df_test['text_final'])\n",
    "\n",
    "    submission_SVM = grid.predict(Test_X_Tfidf_subm)\n",
    "    submission_SVM = pd.DataFrame(submission_SVM)\n",
    "    tmp = pd.concat([df_test,submission_SVM], axis = 1 )\n",
    "    tmp = tmp.drop([\"text\",\"keyword\",\"location\",\"text_final\"], axis = 1)\n",
    "    tmp.columns = ['id', \"target\"]\n",
    "    tmp.to_csv(SUBMISSIONS_PATH + r\"\\submissionGridSVM.csv\", index = False)\n"
   ]
  }
 ],
 "metadata": {
  "kernelspec": {
   "display_name": "Python 3.9.12 ('tweetenv')",
   "language": "python",
   "name": "python3"
  },
  "language_info": {
   "codemirror_mode": {
    "name": "ipython",
    "version": 3
   },
   "file_extension": ".py",
   "mimetype": "text/x-python",
   "name": "python",
   "nbconvert_exporter": "python",
   "pygments_lexer": "ipython3",
   "version": "3.9.12"
  },
  "orig_nbformat": 4,
  "vscode": {
   "interpreter": {
    "hash": "f3d6789217325fb32e9dd9bf564898f8353dff80472d3500055db523b9b83061"
   }
  }
 },
 "nbformat": 4,
 "nbformat_minor": 2
}
